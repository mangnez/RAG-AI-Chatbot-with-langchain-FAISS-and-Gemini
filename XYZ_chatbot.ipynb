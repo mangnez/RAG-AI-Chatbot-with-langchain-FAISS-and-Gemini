{
  "nbformat": 4,
  "nbformat_minor": 0,
  "metadata": {
    "colab": {
      "provenance": []
    },
    "kernelspec": {
      "name": "python3",
      "display_name": "Python 3"
    },
    "language_info": {
      "name": "python"
    }
  },
  "cells": [
    {
      "cell_type": "code",
      "source": [
        "!pip install langchain_community\n",
        "!pip install langchain\n",
        "!pip install langchain_google_genai\n",
        "!pip install python-dotenv\n",
        "!pip install google.colab\n",
        "!pip install faiss-cpu"
      ],
      "metadata": {
        "colab": {
          "base_uri": "https://localhost:8080/",
          "height": 1000
        },
        "id": "aPudPIsuOatF",
        "outputId": "5c8bdd93-10df-4303-f9e0-38c434614dce"
      },
      "execution_count": null,
      "outputs": [
        {
          "output_type": "stream",
          "name": "stdout",
          "text": [
            "Collecting langchain_community\n",
            "  Downloading langchain_community-0.3.26-py3-none-any.whl.metadata (2.9 kB)\n",
            "Requirement already satisfied: langchain-core<1.0.0,>=0.3.66 in /usr/local/lib/python3.11/dist-packages (from langchain_community) (0.3.66)\n",
            "Requirement already satisfied: langchain<1.0.0,>=0.3.26 in /usr/local/lib/python3.11/dist-packages (from langchain_community) (0.3.26)\n",
            "Requirement already satisfied: SQLAlchemy<3,>=1.4 in /usr/local/lib/python3.11/dist-packages (from langchain_community) (2.0.41)\n",
            "Requirement already satisfied: requests<3,>=2 in /usr/local/lib/python3.11/dist-packages (from langchain_community) (2.32.3)\n",
            "Requirement already satisfied: PyYAML>=5.3 in /usr/local/lib/python3.11/dist-packages (from langchain_community) (6.0.2)\n",
            "Requirement already satisfied: aiohttp<4.0.0,>=3.8.3 in /usr/local/lib/python3.11/dist-packages (from langchain_community) (3.11.15)\n",
            "Requirement already satisfied: tenacity!=8.4.0,<10,>=8.1.0 in /usr/local/lib/python3.11/dist-packages (from langchain_community) (8.5.0)\n",
            "Collecting dataclasses-json<0.7,>=0.5.7 (from langchain_community)\n",
            "  Downloading dataclasses_json-0.6.7-py3-none-any.whl.metadata (25 kB)\n",
            "Collecting pydantic-settings<3.0.0,>=2.4.0 (from langchain_community)\n",
            "  Downloading pydantic_settings-2.10.1-py3-none-any.whl.metadata (3.4 kB)\n",
            "Requirement already satisfied: langsmith>=0.1.125 in /usr/local/lib/python3.11/dist-packages (from langchain_community) (0.4.1)\n",
            "Collecting httpx-sse<1.0.0,>=0.4.0 (from langchain_community)\n",
            "  Downloading httpx_sse-0.4.1-py3-none-any.whl.metadata (9.4 kB)\n",
            "Requirement already satisfied: numpy>=1.26.2 in /usr/local/lib/python3.11/dist-packages (from langchain_community) (2.0.2)\n",
            "Requirement already satisfied: aiohappyeyeballs>=2.3.0 in /usr/local/lib/python3.11/dist-packages (from aiohttp<4.0.0,>=3.8.3->langchain_community) (2.6.1)\n",
            "Requirement already satisfied: aiosignal>=1.1.2 in /usr/local/lib/python3.11/dist-packages (from aiohttp<4.0.0,>=3.8.3->langchain_community) (1.3.2)\n",
            "Requirement already satisfied: attrs>=17.3.0 in /usr/local/lib/python3.11/dist-packages (from aiohttp<4.0.0,>=3.8.3->langchain_community) (25.3.0)\n",
            "Requirement already satisfied: frozenlist>=1.1.1 in /usr/local/lib/python3.11/dist-packages (from aiohttp<4.0.0,>=3.8.3->langchain_community) (1.7.0)\n",
            "Requirement already satisfied: multidict<7.0,>=4.5 in /usr/local/lib/python3.11/dist-packages (from aiohttp<4.0.0,>=3.8.3->langchain_community) (6.5.0)\n",
            "Requirement already satisfied: propcache>=0.2.0 in /usr/local/lib/python3.11/dist-packages (from aiohttp<4.0.0,>=3.8.3->langchain_community) (0.3.2)\n",
            "Requirement already satisfied: yarl<2.0,>=1.17.0 in /usr/local/lib/python3.11/dist-packages (from aiohttp<4.0.0,>=3.8.3->langchain_community) (1.20.1)\n",
            "Collecting marshmallow<4.0.0,>=3.18.0 (from dataclasses-json<0.7,>=0.5.7->langchain_community)\n",
            "  Downloading marshmallow-3.26.1-py3-none-any.whl.metadata (7.3 kB)\n",
            "Collecting typing-inspect<1,>=0.4.0 (from dataclasses-json<0.7,>=0.5.7->langchain_community)\n",
            "  Downloading typing_inspect-0.9.0-py3-none-any.whl.metadata (1.5 kB)\n",
            "Requirement already satisfied: langchain-text-splitters<1.0.0,>=0.3.8 in /usr/local/lib/python3.11/dist-packages (from langchain<1.0.0,>=0.3.26->langchain_community) (0.3.8)\n",
            "Requirement already satisfied: pydantic<3.0.0,>=2.7.4 in /usr/local/lib/python3.11/dist-packages (from langchain<1.0.0,>=0.3.26->langchain_community) (2.11.7)\n",
            "Requirement already satisfied: jsonpatch<2.0,>=1.33 in /usr/local/lib/python3.11/dist-packages (from langchain-core<1.0.0,>=0.3.66->langchain_community) (1.33)\n",
            "Requirement already satisfied: packaging<25,>=23.2 in /usr/local/lib/python3.11/dist-packages (from langchain-core<1.0.0,>=0.3.66->langchain_community) (24.2)\n",
            "Requirement already satisfied: typing-extensions>=4.7 in /usr/local/lib/python3.11/dist-packages (from langchain-core<1.0.0,>=0.3.66->langchain_community) (4.14.0)\n",
            "Requirement already satisfied: httpx<1,>=0.23.0 in /usr/local/lib/python3.11/dist-packages (from langsmith>=0.1.125->langchain_community) (0.28.1)\n",
            "Requirement already satisfied: orjson<4.0.0,>=3.9.14 in /usr/local/lib/python3.11/dist-packages (from langsmith>=0.1.125->langchain_community) (3.10.18)\n",
            "Requirement already satisfied: requests-toolbelt<2.0.0,>=1.0.0 in /usr/local/lib/python3.11/dist-packages (from langsmith>=0.1.125->langchain_community) (1.0.0)\n",
            "Requirement already satisfied: zstandard<0.24.0,>=0.23.0 in /usr/local/lib/python3.11/dist-packages (from langsmith>=0.1.125->langchain_community) (0.23.0)\n",
            "Collecting python-dotenv>=0.21.0 (from pydantic-settings<3.0.0,>=2.4.0->langchain_community)\n",
            "  Downloading python_dotenv-1.1.1-py3-none-any.whl.metadata (24 kB)\n",
            "Requirement already satisfied: typing-inspection>=0.4.0 in /usr/local/lib/python3.11/dist-packages (from pydantic-settings<3.0.0,>=2.4.0->langchain_community) (0.4.1)\n",
            "Requirement already satisfied: charset-normalizer<4,>=2 in /usr/local/lib/python3.11/dist-packages (from requests<3,>=2->langchain_community) (3.4.2)\n",
            "Requirement already satisfied: idna<4,>=2.5 in /usr/local/lib/python3.11/dist-packages (from requests<3,>=2->langchain_community) (3.10)\n",
            "Requirement already satisfied: urllib3<3,>=1.21.1 in /usr/local/lib/python3.11/dist-packages (from requests<3,>=2->langchain_community) (2.4.0)\n",
            "Requirement already satisfied: certifi>=2017.4.17 in /usr/local/lib/python3.11/dist-packages (from requests<3,>=2->langchain_community) (2025.6.15)\n",
            "Requirement already satisfied: greenlet>=1 in /usr/local/lib/python3.11/dist-packages (from SQLAlchemy<3,>=1.4->langchain_community) (3.2.3)\n",
            "Requirement already satisfied: anyio in /usr/local/lib/python3.11/dist-packages (from httpx<1,>=0.23.0->langsmith>=0.1.125->langchain_community) (4.9.0)\n",
            "Requirement already satisfied: httpcore==1.* in /usr/local/lib/python3.11/dist-packages (from httpx<1,>=0.23.0->langsmith>=0.1.125->langchain_community) (1.0.9)\n",
            "Requirement already satisfied: h11>=0.16 in /usr/local/lib/python3.11/dist-packages (from httpcore==1.*->httpx<1,>=0.23.0->langsmith>=0.1.125->langchain_community) (0.16.0)\n",
            "Requirement already satisfied: jsonpointer>=1.9 in /usr/local/lib/python3.11/dist-packages (from jsonpatch<2.0,>=1.33->langchain-core<1.0.0,>=0.3.66->langchain_community) (3.0.0)\n",
            "Requirement already satisfied: annotated-types>=0.6.0 in /usr/local/lib/python3.11/dist-packages (from pydantic<3.0.0,>=2.7.4->langchain<1.0.0,>=0.3.26->langchain_community) (0.7.0)\n",
            "Requirement already satisfied: pydantic-core==2.33.2 in /usr/local/lib/python3.11/dist-packages (from pydantic<3.0.0,>=2.7.4->langchain<1.0.0,>=0.3.26->langchain_community) (2.33.2)\n",
            "Collecting mypy-extensions>=0.3.0 (from typing-inspect<1,>=0.4.0->dataclasses-json<0.7,>=0.5.7->langchain_community)\n",
            "  Downloading mypy_extensions-1.1.0-py3-none-any.whl.metadata (1.1 kB)\n",
            "Requirement already satisfied: sniffio>=1.1 in /usr/local/lib/python3.11/dist-packages (from anyio->httpx<1,>=0.23.0->langsmith>=0.1.125->langchain_community) (1.3.1)\n",
            "Downloading langchain_community-0.3.26-py3-none-any.whl (2.5 MB)\n",
            "\u001b[2K   \u001b[90m━━━━━━━━━━━━━━━━━━━━━━━━━━━━━━━━━━━━━━━━\u001b[0m \u001b[32m2.5/2.5 MB\u001b[0m \u001b[31m22.8 MB/s\u001b[0m eta \u001b[36m0:00:00\u001b[0m\n",
            "\u001b[?25hDownloading dataclasses_json-0.6.7-py3-none-any.whl (28 kB)\n",
            "Downloading httpx_sse-0.4.1-py3-none-any.whl (8.1 kB)\n",
            "Downloading pydantic_settings-2.10.1-py3-none-any.whl (45 kB)\n",
            "\u001b[2K   \u001b[90m━━━━━━━━━━━━━━━━━━━━━━━━━━━━━━━━━━━━━━━━\u001b[0m \u001b[32m45.2/45.2 kB\u001b[0m \u001b[31m3.0 MB/s\u001b[0m eta \u001b[36m0:00:00\u001b[0m\n",
            "\u001b[?25hDownloading marshmallow-3.26.1-py3-none-any.whl (50 kB)\n",
            "\u001b[2K   \u001b[90m━━━━━━━━━━━━━━━━━━━━━━━━━━━━━━━━━━━━━━━━\u001b[0m \u001b[32m50.9/50.9 kB\u001b[0m \u001b[31m3.5 MB/s\u001b[0m eta \u001b[36m0:00:00\u001b[0m\n",
            "\u001b[?25hDownloading python_dotenv-1.1.1-py3-none-any.whl (20 kB)\n",
            "Downloading typing_inspect-0.9.0-py3-none-any.whl (8.8 kB)\n",
            "Downloading mypy_extensions-1.1.0-py3-none-any.whl (5.0 kB)\n",
            "Installing collected packages: python-dotenv, mypy-extensions, marshmallow, httpx-sse, typing-inspect, pydantic-settings, dataclasses-json, langchain_community\n",
            "Successfully installed dataclasses-json-0.6.7 httpx-sse-0.4.1 langchain_community-0.3.26 marshmallow-3.26.1 mypy-extensions-1.1.0 pydantic-settings-2.10.1 python-dotenv-1.1.1 typing-inspect-0.9.0\n",
            "Requirement already satisfied: langchain in /usr/local/lib/python3.11/dist-packages (0.3.26)\n",
            "Requirement already satisfied: langchain-core<1.0.0,>=0.3.66 in /usr/local/lib/python3.11/dist-packages (from langchain) (0.3.66)\n",
            "Requirement already satisfied: langchain-text-splitters<1.0.0,>=0.3.8 in /usr/local/lib/python3.11/dist-packages (from langchain) (0.3.8)\n",
            "Requirement already satisfied: langsmith>=0.1.17 in /usr/local/lib/python3.11/dist-packages (from langchain) (0.4.1)\n",
            "Requirement already satisfied: pydantic<3.0.0,>=2.7.4 in /usr/local/lib/python3.11/dist-packages (from langchain) (2.11.7)\n",
            "Requirement already satisfied: SQLAlchemy<3,>=1.4 in /usr/local/lib/python3.11/dist-packages (from langchain) (2.0.41)\n",
            "Requirement already satisfied: requests<3,>=2 in /usr/local/lib/python3.11/dist-packages (from langchain) (2.32.3)\n",
            "Requirement already satisfied: PyYAML>=5.3 in /usr/local/lib/python3.11/dist-packages (from langchain) (6.0.2)\n",
            "Requirement already satisfied: tenacity!=8.4.0,<10.0.0,>=8.1.0 in /usr/local/lib/python3.11/dist-packages (from langchain-core<1.0.0,>=0.3.66->langchain) (8.5.0)\n",
            "Requirement already satisfied: jsonpatch<2.0,>=1.33 in /usr/local/lib/python3.11/dist-packages (from langchain-core<1.0.0,>=0.3.66->langchain) (1.33)\n",
            "Requirement already satisfied: packaging<25,>=23.2 in /usr/local/lib/python3.11/dist-packages (from langchain-core<1.0.0,>=0.3.66->langchain) (24.2)\n",
            "Requirement already satisfied: typing-extensions>=4.7 in /usr/local/lib/python3.11/dist-packages (from langchain-core<1.0.0,>=0.3.66->langchain) (4.14.0)\n",
            "Requirement already satisfied: httpx<1,>=0.23.0 in /usr/local/lib/python3.11/dist-packages (from langsmith>=0.1.17->langchain) (0.28.1)\n",
            "Requirement already satisfied: orjson<4.0.0,>=3.9.14 in /usr/local/lib/python3.11/dist-packages (from langsmith>=0.1.17->langchain) (3.10.18)\n",
            "Requirement already satisfied: requests-toolbelt<2.0.0,>=1.0.0 in /usr/local/lib/python3.11/dist-packages (from langsmith>=0.1.17->langchain) (1.0.0)\n",
            "Requirement already satisfied: zstandard<0.24.0,>=0.23.0 in /usr/local/lib/python3.11/dist-packages (from langsmith>=0.1.17->langchain) (0.23.0)\n",
            "Requirement already satisfied: annotated-types>=0.6.0 in /usr/local/lib/python3.11/dist-packages (from pydantic<3.0.0,>=2.7.4->langchain) (0.7.0)\n",
            "Requirement already satisfied: pydantic-core==2.33.2 in /usr/local/lib/python3.11/dist-packages (from pydantic<3.0.0,>=2.7.4->langchain) (2.33.2)\n",
            "Requirement already satisfied: typing-inspection>=0.4.0 in /usr/local/lib/python3.11/dist-packages (from pydantic<3.0.0,>=2.7.4->langchain) (0.4.1)\n",
            "Requirement already satisfied: charset-normalizer<4,>=2 in /usr/local/lib/python3.11/dist-packages (from requests<3,>=2->langchain) (3.4.2)\n",
            "Requirement already satisfied: idna<4,>=2.5 in /usr/local/lib/python3.11/dist-packages (from requests<3,>=2->langchain) (3.10)\n",
            "Requirement already satisfied: urllib3<3,>=1.21.1 in /usr/local/lib/python3.11/dist-packages (from requests<3,>=2->langchain) (2.4.0)\n",
            "Requirement already satisfied: certifi>=2017.4.17 in /usr/local/lib/python3.11/dist-packages (from requests<3,>=2->langchain) (2025.6.15)\n",
            "Requirement already satisfied: greenlet>=1 in /usr/local/lib/python3.11/dist-packages (from SQLAlchemy<3,>=1.4->langchain) (3.2.3)\n",
            "Requirement already satisfied: anyio in /usr/local/lib/python3.11/dist-packages (from httpx<1,>=0.23.0->langsmith>=0.1.17->langchain) (4.9.0)\n",
            "Requirement already satisfied: httpcore==1.* in /usr/local/lib/python3.11/dist-packages (from httpx<1,>=0.23.0->langsmith>=0.1.17->langchain) (1.0.9)\n",
            "Requirement already satisfied: h11>=0.16 in /usr/local/lib/python3.11/dist-packages (from httpcore==1.*->httpx<1,>=0.23.0->langsmith>=0.1.17->langchain) (0.16.0)\n",
            "Requirement already satisfied: jsonpointer>=1.9 in /usr/local/lib/python3.11/dist-packages (from jsonpatch<2.0,>=1.33->langchain-core<1.0.0,>=0.3.66->langchain) (3.0.0)\n",
            "Requirement already satisfied: sniffio>=1.1 in /usr/local/lib/python3.11/dist-packages (from anyio->httpx<1,>=0.23.0->langsmith>=0.1.17->langchain) (1.3.1)\n",
            "Collecting langchain_google_genai\n",
            "  Downloading langchain_google_genai-2.1.5-py3-none-any.whl.metadata (5.2 kB)\n",
            "Collecting filetype<2.0.0,>=1.2.0 (from langchain_google_genai)\n",
            "  Downloading filetype-1.2.0-py2.py3-none-any.whl.metadata (6.5 kB)\n",
            "Collecting google-ai-generativelanguage<0.7.0,>=0.6.18 (from langchain_google_genai)\n",
            "  Downloading google_ai_generativelanguage-0.6.18-py3-none-any.whl.metadata (9.8 kB)\n",
            "Requirement already satisfied: langchain-core<0.4.0,>=0.3.62 in /usr/local/lib/python3.11/dist-packages (from langchain_google_genai) (0.3.66)\n",
            "Requirement already satisfied: pydantic<3,>=2 in /usr/local/lib/python3.11/dist-packages (from langchain_google_genai) (2.11.7)\n",
            "Requirement already satisfied: google-api-core!=2.0.*,!=2.1.*,!=2.10.*,!=2.2.*,!=2.3.*,!=2.4.*,!=2.5.*,!=2.6.*,!=2.7.*,!=2.8.*,!=2.9.*,<3.0.0,>=1.34.1 in /usr/local/lib/python3.11/dist-packages (from google-api-core[grpc]!=2.0.*,!=2.1.*,!=2.10.*,!=2.2.*,!=2.3.*,!=2.4.*,!=2.5.*,!=2.6.*,!=2.7.*,!=2.8.*,!=2.9.*,<3.0.0,>=1.34.1->google-ai-generativelanguage<0.7.0,>=0.6.18->langchain_google_genai) (2.25.1)\n",
            "Requirement already satisfied: google-auth!=2.24.0,!=2.25.0,<3.0.0,>=2.14.1 in /usr/local/lib/python3.11/dist-packages (from google-ai-generativelanguage<0.7.0,>=0.6.18->langchain_google_genai) (2.38.0)\n",
            "Requirement already satisfied: proto-plus<2.0.0,>=1.22.3 in /usr/local/lib/python3.11/dist-packages (from google-ai-generativelanguage<0.7.0,>=0.6.18->langchain_google_genai) (1.26.1)\n",
            "Requirement already satisfied: protobuf!=4.21.0,!=4.21.1,!=4.21.2,!=4.21.3,!=4.21.4,!=4.21.5,<7.0.0,>=3.20.2 in /usr/local/lib/python3.11/dist-packages (from google-ai-generativelanguage<0.7.0,>=0.6.18->langchain_google_genai) (5.29.5)\n",
            "Requirement already satisfied: langsmith>=0.3.45 in /usr/local/lib/python3.11/dist-packages (from langchain-core<0.4.0,>=0.3.62->langchain_google_genai) (0.4.1)\n",
            "Requirement already satisfied: tenacity!=8.4.0,<10.0.0,>=8.1.0 in /usr/local/lib/python3.11/dist-packages (from langchain-core<0.4.0,>=0.3.62->langchain_google_genai) (8.5.0)\n",
            "Requirement already satisfied: jsonpatch<2.0,>=1.33 in /usr/local/lib/python3.11/dist-packages (from langchain-core<0.4.0,>=0.3.62->langchain_google_genai) (1.33)\n",
            "Requirement already satisfied: PyYAML>=5.3 in /usr/local/lib/python3.11/dist-packages (from langchain-core<0.4.0,>=0.3.62->langchain_google_genai) (6.0.2)\n",
            "Requirement already satisfied: packaging<25,>=23.2 in /usr/local/lib/python3.11/dist-packages (from langchain-core<0.4.0,>=0.3.62->langchain_google_genai) (24.2)\n",
            "Requirement already satisfied: typing-extensions>=4.7 in /usr/local/lib/python3.11/dist-packages (from langchain-core<0.4.0,>=0.3.62->langchain_google_genai) (4.14.0)\n",
            "Requirement already satisfied: annotated-types>=0.6.0 in /usr/local/lib/python3.11/dist-packages (from pydantic<3,>=2->langchain_google_genai) (0.7.0)\n",
            "Requirement already satisfied: pydantic-core==2.33.2 in /usr/local/lib/python3.11/dist-packages (from pydantic<3,>=2->langchain_google_genai) (2.33.2)\n",
            "Requirement already satisfied: typing-inspection>=0.4.0 in /usr/local/lib/python3.11/dist-packages (from pydantic<3,>=2->langchain_google_genai) (0.4.1)\n",
            "Requirement already satisfied: googleapis-common-protos<2.0.0,>=1.56.2 in /usr/local/lib/python3.11/dist-packages (from google-api-core!=2.0.*,!=2.1.*,!=2.10.*,!=2.2.*,!=2.3.*,!=2.4.*,!=2.5.*,!=2.6.*,!=2.7.*,!=2.8.*,!=2.9.*,<3.0.0,>=1.34.1->google-api-core[grpc]!=2.0.*,!=2.1.*,!=2.10.*,!=2.2.*,!=2.3.*,!=2.4.*,!=2.5.*,!=2.6.*,!=2.7.*,!=2.8.*,!=2.9.*,<3.0.0,>=1.34.1->google-ai-generativelanguage<0.7.0,>=0.6.18->langchain_google_genai) (1.70.0)\n",
            "Requirement already satisfied: requests<3.0.0,>=2.18.0 in /usr/local/lib/python3.11/dist-packages (from google-api-core!=2.0.*,!=2.1.*,!=2.10.*,!=2.2.*,!=2.3.*,!=2.4.*,!=2.5.*,!=2.6.*,!=2.7.*,!=2.8.*,!=2.9.*,<3.0.0,>=1.34.1->google-api-core[grpc]!=2.0.*,!=2.1.*,!=2.10.*,!=2.2.*,!=2.3.*,!=2.4.*,!=2.5.*,!=2.6.*,!=2.7.*,!=2.8.*,!=2.9.*,<3.0.0,>=1.34.1->google-ai-generativelanguage<0.7.0,>=0.6.18->langchain_google_genai) (2.32.3)\n",
            "Requirement already satisfied: grpcio<2.0.0,>=1.33.2 in /usr/local/lib/python3.11/dist-packages (from google-api-core[grpc]!=2.0.*,!=2.1.*,!=2.10.*,!=2.2.*,!=2.3.*,!=2.4.*,!=2.5.*,!=2.6.*,!=2.7.*,!=2.8.*,!=2.9.*,<3.0.0,>=1.34.1->google-ai-generativelanguage<0.7.0,>=0.6.18->langchain_google_genai) (1.73.0)\n",
            "Requirement already satisfied: grpcio-status<2.0.0,>=1.33.2 in /usr/local/lib/python3.11/dist-packages (from google-api-core[grpc]!=2.0.*,!=2.1.*,!=2.10.*,!=2.2.*,!=2.3.*,!=2.4.*,!=2.5.*,!=2.6.*,!=2.7.*,!=2.8.*,!=2.9.*,<3.0.0,>=1.34.1->google-ai-generativelanguage<0.7.0,>=0.6.18->langchain_google_genai) (1.71.0)\n",
            "Requirement already satisfied: cachetools<6.0,>=2.0.0 in /usr/local/lib/python3.11/dist-packages (from google-auth!=2.24.0,!=2.25.0,<3.0.0,>=2.14.1->google-ai-generativelanguage<0.7.0,>=0.6.18->langchain_google_genai) (5.5.2)\n",
            "Requirement already satisfied: pyasn1-modules>=0.2.1 in /usr/local/lib/python3.11/dist-packages (from google-auth!=2.24.0,!=2.25.0,<3.0.0,>=2.14.1->google-ai-generativelanguage<0.7.0,>=0.6.18->langchain_google_genai) (0.4.2)\n",
            "Requirement already satisfied: rsa<5,>=3.1.4 in /usr/local/lib/python3.11/dist-packages (from google-auth!=2.24.0,!=2.25.0,<3.0.0,>=2.14.1->google-ai-generativelanguage<0.7.0,>=0.6.18->langchain_google_genai) (4.9.1)\n",
            "Requirement already satisfied: jsonpointer>=1.9 in /usr/local/lib/python3.11/dist-packages (from jsonpatch<2.0,>=1.33->langchain-core<0.4.0,>=0.3.62->langchain_google_genai) (3.0.0)\n",
            "Requirement already satisfied: httpx<1,>=0.23.0 in /usr/local/lib/python3.11/dist-packages (from langsmith>=0.3.45->langchain-core<0.4.0,>=0.3.62->langchain_google_genai) (0.28.1)\n",
            "Requirement already satisfied: orjson<4.0.0,>=3.9.14 in /usr/local/lib/python3.11/dist-packages (from langsmith>=0.3.45->langchain-core<0.4.0,>=0.3.62->langchain_google_genai) (3.10.18)\n",
            "Requirement already satisfied: requests-toolbelt<2.0.0,>=1.0.0 in /usr/local/lib/python3.11/dist-packages (from langsmith>=0.3.45->langchain-core<0.4.0,>=0.3.62->langchain_google_genai) (1.0.0)\n",
            "Requirement already satisfied: zstandard<0.24.0,>=0.23.0 in /usr/local/lib/python3.11/dist-packages (from langsmith>=0.3.45->langchain-core<0.4.0,>=0.3.62->langchain_google_genai) (0.23.0)\n",
            "Requirement already satisfied: anyio in /usr/local/lib/python3.11/dist-packages (from httpx<1,>=0.23.0->langsmith>=0.3.45->langchain-core<0.4.0,>=0.3.62->langchain_google_genai) (4.9.0)\n",
            "Requirement already satisfied: certifi in /usr/local/lib/python3.11/dist-packages (from httpx<1,>=0.23.0->langsmith>=0.3.45->langchain-core<0.4.0,>=0.3.62->langchain_google_genai) (2025.6.15)\n",
            "Requirement already satisfied: httpcore==1.* in /usr/local/lib/python3.11/dist-packages (from httpx<1,>=0.23.0->langsmith>=0.3.45->langchain-core<0.4.0,>=0.3.62->langchain_google_genai) (1.0.9)\n",
            "Requirement already satisfied: idna in /usr/local/lib/python3.11/dist-packages (from httpx<1,>=0.23.0->langsmith>=0.3.45->langchain-core<0.4.0,>=0.3.62->langchain_google_genai) (3.10)\n",
            "Requirement already satisfied: h11>=0.16 in /usr/local/lib/python3.11/dist-packages (from httpcore==1.*->httpx<1,>=0.23.0->langsmith>=0.3.45->langchain-core<0.4.0,>=0.3.62->langchain_google_genai) (0.16.0)\n",
            "Requirement already satisfied: pyasn1<0.7.0,>=0.6.1 in /usr/local/lib/python3.11/dist-packages (from pyasn1-modules>=0.2.1->google-auth!=2.24.0,!=2.25.0,<3.0.0,>=2.14.1->google-ai-generativelanguage<0.7.0,>=0.6.18->langchain_google_genai) (0.6.1)\n",
            "Requirement already satisfied: charset-normalizer<4,>=2 in /usr/local/lib/python3.11/dist-packages (from requests<3.0.0,>=2.18.0->google-api-core!=2.0.*,!=2.1.*,!=2.10.*,!=2.2.*,!=2.3.*,!=2.4.*,!=2.5.*,!=2.6.*,!=2.7.*,!=2.8.*,!=2.9.*,<3.0.0,>=1.34.1->google-api-core[grpc]!=2.0.*,!=2.1.*,!=2.10.*,!=2.2.*,!=2.3.*,!=2.4.*,!=2.5.*,!=2.6.*,!=2.7.*,!=2.8.*,!=2.9.*,<3.0.0,>=1.34.1->google-ai-generativelanguage<0.7.0,>=0.6.18->langchain_google_genai) (3.4.2)\n",
            "Requirement already satisfied: urllib3<3,>=1.21.1 in /usr/local/lib/python3.11/dist-packages (from requests<3.0.0,>=2.18.0->google-api-core!=2.0.*,!=2.1.*,!=2.10.*,!=2.2.*,!=2.3.*,!=2.4.*,!=2.5.*,!=2.6.*,!=2.7.*,!=2.8.*,!=2.9.*,<3.0.0,>=1.34.1->google-api-core[grpc]!=2.0.*,!=2.1.*,!=2.10.*,!=2.2.*,!=2.3.*,!=2.4.*,!=2.5.*,!=2.6.*,!=2.7.*,!=2.8.*,!=2.9.*,<3.0.0,>=1.34.1->google-ai-generativelanguage<0.7.0,>=0.6.18->langchain_google_genai) (2.4.0)\n",
            "Requirement already satisfied: sniffio>=1.1 in /usr/local/lib/python3.11/dist-packages (from anyio->httpx<1,>=0.23.0->langsmith>=0.3.45->langchain-core<0.4.0,>=0.3.62->langchain_google_genai) (1.3.1)\n",
            "Downloading langchain_google_genai-2.1.5-py3-none-any.whl (44 kB)\n",
            "\u001b[2K   \u001b[90m━━━━━━━━━━━━━━━━━━━━━━━━━━━━━━━━━━━━━━━━\u001b[0m \u001b[32m44.8/44.8 kB\u001b[0m \u001b[31m1.9 MB/s\u001b[0m eta \u001b[36m0:00:00\u001b[0m\n",
            "\u001b[?25hDownloading filetype-1.2.0-py2.py3-none-any.whl (19 kB)\n",
            "Downloading google_ai_generativelanguage-0.6.18-py3-none-any.whl (1.4 MB)\n",
            "\u001b[2K   \u001b[90m━━━━━━━━━━━━━━━━━━━━━━━━━━━━━━━━━━━━━━━━\u001b[0m \u001b[32m1.4/1.4 MB\u001b[0m \u001b[31m20.9 MB/s\u001b[0m eta \u001b[36m0:00:00\u001b[0m\n",
            "\u001b[?25hInstalling collected packages: filetype, google-ai-generativelanguage, langchain_google_genai\n",
            "  Attempting uninstall: google-ai-generativelanguage\n",
            "    Found existing installation: google-ai-generativelanguage 0.6.15\n",
            "    Uninstalling google-ai-generativelanguage-0.6.15:\n",
            "      Successfully uninstalled google-ai-generativelanguage-0.6.15\n",
            "\u001b[31mERROR: pip's dependency resolver does not currently take into account all the packages that are installed. This behaviour is the source of the following dependency conflicts.\n",
            "google-generativeai 0.8.5 requires google-ai-generativelanguage==0.6.15, but you have google-ai-generativelanguage 0.6.18 which is incompatible.\u001b[0m\u001b[31m\n",
            "\u001b[0mSuccessfully installed filetype-1.2.0 google-ai-generativelanguage-0.6.18 langchain_google_genai-2.1.5\n"
          ]
        },
        {
          "output_type": "display_data",
          "data": {
            "application/vnd.colab-display-data+json": {
              "pip_warning": {
                "packages": [
                  "google"
                ]
              },
              "id": "bd6f6814252441a39c5eb43e87b70260"
            }
          },
          "metadata": {}
        },
        {
          "output_type": "stream",
          "name": "stdout",
          "text": [
            "Requirement already satisfied: python-dotenv in /usr/local/lib/python3.11/dist-packages (1.1.1)\n",
            "Requirement already satisfied: google.colab in /usr/local/lib/python3.11/dist-packages (1.0.0)\n",
            "Requirement already satisfied: google-auth==2.38.0 in /usr/local/lib/python3.11/dist-packages (from google.colab) (2.38.0)\n",
            "Requirement already satisfied: ipykernel==6.17.1 in /usr/local/lib/python3.11/dist-packages (from google.colab) (6.17.1)\n",
            "Requirement already satisfied: ipyparallel==8.8.0 in /usr/local/lib/python3.11/dist-packages (from google.colab) (8.8.0)\n",
            "Requirement already satisfied: ipython==7.34.0 in /usr/local/lib/python3.11/dist-packages (from google.colab) (7.34.0)\n",
            "Requirement already satisfied: notebook==6.5.7 in /usr/local/lib/python3.11/dist-packages (from google.colab) (6.5.7)\n",
            "Requirement already satisfied: pandas==2.2.2 in /usr/local/lib/python3.11/dist-packages (from google.colab) (2.2.2)\n",
            "Requirement already satisfied: portpicker==1.5.2 in /usr/local/lib/python3.11/dist-packages (from google.colab) (1.5.2)\n",
            "Requirement already satisfied: requests==2.32.3 in /usr/local/lib/python3.11/dist-packages (from google.colab) (2.32.3)\n",
            "Requirement already satisfied: tornado==6.4.2 in /usr/local/lib/python3.11/dist-packages (from google.colab) (6.4.2)\n",
            "Requirement already satisfied: cachetools<6.0,>=2.0.0 in /usr/local/lib/python3.11/dist-packages (from google-auth==2.38.0->google.colab) (5.5.2)\n",
            "Requirement already satisfied: pyasn1-modules>=0.2.1 in /usr/local/lib/python3.11/dist-packages (from google-auth==2.38.0->google.colab) (0.4.2)\n",
            "Requirement already satisfied: rsa<5,>=3.1.4 in /usr/local/lib/python3.11/dist-packages (from google-auth==2.38.0->google.colab) (4.9.1)\n",
            "Requirement already satisfied: debugpy>=1.0 in /usr/local/lib/python3.11/dist-packages (from ipykernel==6.17.1->google.colab) (1.8.0)\n",
            "Requirement already satisfied: jupyter-client>=6.1.12 in /usr/local/lib/python3.11/dist-packages (from ipykernel==6.17.1->google.colab) (6.1.12)\n",
            "Requirement already satisfied: matplotlib-inline>=0.1 in /usr/local/lib/python3.11/dist-packages (from ipykernel==6.17.1->google.colab) (0.1.7)\n",
            "Requirement already satisfied: nest-asyncio in /usr/local/lib/python3.11/dist-packages (from ipykernel==6.17.1->google.colab) (1.6.0)\n",
            "Requirement already satisfied: packaging in /usr/local/lib/python3.11/dist-packages (from ipykernel==6.17.1->google.colab) (24.2)\n",
            "Requirement already satisfied: psutil in /usr/local/lib/python3.11/dist-packages (from ipykernel==6.17.1->google.colab) (5.9.5)\n",
            "Requirement already satisfied: pyzmq>=17 in /usr/local/lib/python3.11/dist-packages (from ipykernel==6.17.1->google.colab) (24.0.1)\n",
            "Requirement already satisfied: traitlets>=5.1.0 in /usr/local/lib/python3.11/dist-packages (from ipykernel==6.17.1->google.colab) (5.7.1)\n",
            "Requirement already satisfied: decorator in /usr/local/lib/python3.11/dist-packages (from ipyparallel==8.8.0->google.colab) (4.4.2)\n",
            "Requirement already satisfied: entrypoints in /usr/local/lib/python3.11/dist-packages (from ipyparallel==8.8.0->google.colab) (0.4)\n",
            "Requirement already satisfied: python-dateutil>=2.1 in /usr/local/lib/python3.11/dist-packages (from ipyparallel==8.8.0->google.colab) (2.9.0.post0)\n",
            "Requirement already satisfied: tqdm in /usr/local/lib/python3.11/dist-packages (from ipyparallel==8.8.0->google.colab) (4.67.1)\n",
            "Requirement already satisfied: setuptools>=18.5 in /usr/local/lib/python3.11/dist-packages (from ipython==7.34.0->google.colab) (75.2.0)\n",
            "Collecting jedi>=0.16 (from ipython==7.34.0->google.colab)\n",
            "  Downloading jedi-0.19.2-py2.py3-none-any.whl.metadata (22 kB)\n",
            "Requirement already satisfied: pickleshare in /usr/local/lib/python3.11/dist-packages (from ipython==7.34.0->google.colab) (0.7.5)\n",
            "Requirement already satisfied: prompt-toolkit!=3.0.0,!=3.0.1,<3.1.0,>=2.0.0 in /usr/local/lib/python3.11/dist-packages (from ipython==7.34.0->google.colab) (3.0.51)\n",
            "Requirement already satisfied: pygments in /usr/local/lib/python3.11/dist-packages (from ipython==7.34.0->google.colab) (2.19.2)\n",
            "Requirement already satisfied: backcall in /usr/local/lib/python3.11/dist-packages (from ipython==7.34.0->google.colab) (0.2.0)\n",
            "Requirement already satisfied: pexpect>4.3 in /usr/local/lib/python3.11/dist-packages (from ipython==7.34.0->google.colab) (4.9.0)\n",
            "Requirement already satisfied: jinja2 in /usr/local/lib/python3.11/dist-packages (from notebook==6.5.7->google.colab) (3.1.6)\n",
            "Requirement already satisfied: argon2-cffi in /usr/local/lib/python3.11/dist-packages (from notebook==6.5.7->google.colab) (25.1.0)\n",
            "Requirement already satisfied: jupyter-core>=4.6.1 in /usr/local/lib/python3.11/dist-packages (from notebook==6.5.7->google.colab) (5.8.1)\n",
            "Requirement already satisfied: ipython-genutils in /usr/local/lib/python3.11/dist-packages (from notebook==6.5.7->google.colab) (0.2.0)\n",
            "Requirement already satisfied: nbformat in /usr/local/lib/python3.11/dist-packages (from notebook==6.5.7->google.colab) (5.10.4)\n",
            "Requirement already satisfied: nbconvert>=5 in /usr/local/lib/python3.11/dist-packages (from notebook==6.5.7->google.colab) (7.16.6)\n",
            "Requirement already satisfied: Send2Trash>=1.8.0 in /usr/local/lib/python3.11/dist-packages (from notebook==6.5.7->google.colab) (1.8.3)\n",
            "Requirement already satisfied: terminado>=0.8.3 in /usr/local/lib/python3.11/dist-packages (from notebook==6.5.7->google.colab) (0.18.1)\n",
            "Requirement already satisfied: prometheus-client in /usr/local/lib/python3.11/dist-packages (from notebook==6.5.7->google.colab) (0.22.1)\n",
            "Requirement already satisfied: nbclassic>=0.4.7 in /usr/local/lib/python3.11/dist-packages (from notebook==6.5.7->google.colab) (1.3.1)\n",
            "Requirement already satisfied: numpy>=1.23.2 in /usr/local/lib/python3.11/dist-packages (from pandas==2.2.2->google.colab) (2.0.2)\n",
            "Requirement already satisfied: pytz>=2020.1 in /usr/local/lib/python3.11/dist-packages (from pandas==2.2.2->google.colab) (2025.2)\n",
            "Requirement already satisfied: tzdata>=2022.7 in /usr/local/lib/python3.11/dist-packages (from pandas==2.2.2->google.colab) (2025.2)\n",
            "Requirement already satisfied: charset-normalizer<4,>=2 in /usr/local/lib/python3.11/dist-packages (from requests==2.32.3->google.colab) (3.4.2)\n",
            "Requirement already satisfied: idna<4,>=2.5 in /usr/local/lib/python3.11/dist-packages (from requests==2.32.3->google.colab) (3.10)\n",
            "Requirement already satisfied: urllib3<3,>=1.21.1 in /usr/local/lib/python3.11/dist-packages (from requests==2.32.3->google.colab) (2.4.0)\n",
            "Requirement already satisfied: certifi>=2017.4.17 in /usr/local/lib/python3.11/dist-packages (from requests==2.32.3->google.colab) (2025.6.15)\n",
            "Requirement already satisfied: parso<0.9.0,>=0.8.4 in /usr/local/lib/python3.11/dist-packages (from jedi>=0.16->ipython==7.34.0->google.colab) (0.8.4)\n",
            "Requirement already satisfied: platformdirs>=2.5 in /usr/local/lib/python3.11/dist-packages (from jupyter-core>=4.6.1->notebook==6.5.7->google.colab) (4.3.8)\n",
            "Requirement already satisfied: notebook-shim>=0.2.3 in /usr/local/lib/python3.11/dist-packages (from nbclassic>=0.4.7->notebook==6.5.7->google.colab) (0.2.4)\n",
            "Requirement already satisfied: beautifulsoup4 in /usr/local/lib/python3.11/dist-packages (from nbconvert>=5->notebook==6.5.7->google.colab) (4.13.4)\n",
            "Requirement already satisfied: bleach!=5.0.0 in /usr/local/lib/python3.11/dist-packages (from bleach[css]!=5.0.0->nbconvert>=5->notebook==6.5.7->google.colab) (6.2.0)\n",
            "Requirement already satisfied: defusedxml in /usr/local/lib/python3.11/dist-packages (from nbconvert>=5->notebook==6.5.7->google.colab) (0.7.1)\n",
            "Requirement already satisfied: jupyterlab-pygments in /usr/local/lib/python3.11/dist-packages (from nbconvert>=5->notebook==6.5.7->google.colab) (0.3.0)\n",
            "Requirement already satisfied: markupsafe>=2.0 in /usr/local/lib/python3.11/dist-packages (from nbconvert>=5->notebook==6.5.7->google.colab) (3.0.2)\n",
            "Requirement already satisfied: mistune<4,>=2.0.3 in /usr/local/lib/python3.11/dist-packages (from nbconvert>=5->notebook==6.5.7->google.colab) (3.1.3)\n",
            "Requirement already satisfied: nbclient>=0.5.0 in /usr/local/lib/python3.11/dist-packages (from nbconvert>=5->notebook==6.5.7->google.colab) (0.10.2)\n",
            "Requirement already satisfied: pandocfilters>=1.4.1 in /usr/local/lib/python3.11/dist-packages (from nbconvert>=5->notebook==6.5.7->google.colab) (1.5.1)\n",
            "Requirement already satisfied: fastjsonschema>=2.15 in /usr/local/lib/python3.11/dist-packages (from nbformat->notebook==6.5.7->google.colab) (2.21.1)\n",
            "Requirement already satisfied: jsonschema>=2.6 in /usr/local/lib/python3.11/dist-packages (from nbformat->notebook==6.5.7->google.colab) (4.24.0)\n",
            "Requirement already satisfied: ptyprocess>=0.5 in /usr/local/lib/python3.11/dist-packages (from pexpect>4.3->ipython==7.34.0->google.colab) (0.7.0)\n",
            "Requirement already satisfied: wcwidth in /usr/local/lib/python3.11/dist-packages (from prompt-toolkit!=3.0.0,!=3.0.1,<3.1.0,>=2.0.0->ipython==7.34.0->google.colab) (0.2.13)\n",
            "Requirement already satisfied: pyasn1<0.7.0,>=0.6.1 in /usr/local/lib/python3.11/dist-packages (from pyasn1-modules>=0.2.1->google-auth==2.38.0->google.colab) (0.6.1)\n",
            "Requirement already satisfied: six>=1.5 in /usr/local/lib/python3.11/dist-packages (from python-dateutil>=2.1->ipyparallel==8.8.0->google.colab) (1.17.0)\n",
            "Requirement already satisfied: argon2-cffi-bindings in /usr/local/lib/python3.11/dist-packages (from argon2-cffi->notebook==6.5.7->google.colab) (21.2.0)\n",
            "Requirement already satisfied: webencodings in /usr/local/lib/python3.11/dist-packages (from bleach!=5.0.0->bleach[css]!=5.0.0->nbconvert>=5->notebook==6.5.7->google.colab) (0.5.1)\n",
            "Requirement already satisfied: tinycss2<1.5,>=1.1.0 in /usr/local/lib/python3.11/dist-packages (from bleach[css]!=5.0.0->nbconvert>=5->notebook==6.5.7->google.colab) (1.4.0)\n",
            "Requirement already satisfied: attrs>=22.2.0 in /usr/local/lib/python3.11/dist-packages (from jsonschema>=2.6->nbformat->notebook==6.5.7->google.colab) (25.3.0)\n",
            "Requirement already satisfied: jsonschema-specifications>=2023.03.6 in /usr/local/lib/python3.11/dist-packages (from jsonschema>=2.6->nbformat->notebook==6.5.7->google.colab) (2025.4.1)\n",
            "Requirement already satisfied: referencing>=0.28.4 in /usr/local/lib/python3.11/dist-packages (from jsonschema>=2.6->nbformat->notebook==6.5.7->google.colab) (0.36.2)\n",
            "Requirement already satisfied: rpds-py>=0.7.1 in /usr/local/lib/python3.11/dist-packages (from jsonschema>=2.6->nbformat->notebook==6.5.7->google.colab) (0.25.1)\n",
            "Requirement already satisfied: jupyter-server<3,>=1.8 in /usr/local/lib/python3.11/dist-packages (from notebook-shim>=0.2.3->nbclassic>=0.4.7->notebook==6.5.7->google.colab) (1.16.0)\n",
            "Requirement already satisfied: cffi>=1.0.1 in /usr/local/lib/python3.11/dist-packages (from argon2-cffi-bindings->argon2-cffi->notebook==6.5.7->google.colab) (1.17.1)\n",
            "Requirement already satisfied: soupsieve>1.2 in /usr/local/lib/python3.11/dist-packages (from beautifulsoup4->nbconvert>=5->notebook==6.5.7->google.colab) (2.7)\n",
            "Requirement already satisfied: typing-extensions>=4.0.0 in /usr/local/lib/python3.11/dist-packages (from beautifulsoup4->nbconvert>=5->notebook==6.5.7->google.colab) (4.14.0)\n",
            "Requirement already satisfied: pycparser in /usr/local/lib/python3.11/dist-packages (from cffi>=1.0.1->argon2-cffi-bindings->argon2-cffi->notebook==6.5.7->google.colab) (2.22)\n",
            "Requirement already satisfied: anyio>=3.1.0 in /usr/local/lib/python3.11/dist-packages (from jupyter-server<3,>=1.8->notebook-shim>=0.2.3->nbclassic>=0.4.7->notebook==6.5.7->google.colab) (4.9.0)\n",
            "Requirement already satisfied: websocket-client in /usr/local/lib/python3.11/dist-packages (from jupyter-server<3,>=1.8->notebook-shim>=0.2.3->nbclassic>=0.4.7->notebook==6.5.7->google.colab) (1.8.0)\n",
            "Requirement already satisfied: sniffio>=1.1 in /usr/local/lib/python3.11/dist-packages (from anyio>=3.1.0->jupyter-server<3,>=1.8->notebook-shim>=0.2.3->nbclassic>=0.4.7->notebook==6.5.7->google.colab) (1.3.1)\n",
            "Downloading jedi-0.19.2-py2.py3-none-any.whl (1.6 MB)\n",
            "\u001b[2K   \u001b[90m━━━━━━━━━━━━━━━━━━━━━━━━━━━━━━━━━━━━━━━━\u001b[0m \u001b[32m1.6/1.6 MB\u001b[0m \u001b[31m17.3 MB/s\u001b[0m eta \u001b[36m0:00:00\u001b[0m\n",
            "\u001b[?25hInstalling collected packages: jedi\n",
            "Successfully installed jedi-0.19.2\n",
            "Collecting faiss-cpu\n",
            "  Downloading faiss_cpu-1.11.0-cp311-cp311-manylinux_2_28_x86_64.whl.metadata (4.8 kB)\n",
            "Requirement already satisfied: numpy<3.0,>=1.25.0 in /usr/local/lib/python3.11/dist-packages (from faiss-cpu) (2.0.2)\n",
            "Requirement already satisfied: packaging in /usr/local/lib/python3.11/dist-packages (from faiss-cpu) (24.2)\n",
            "Downloading faiss_cpu-1.11.0-cp311-cp311-manylinux_2_28_x86_64.whl (31.3 MB)\n",
            "\u001b[2K   \u001b[90m━━━━━━━━━━━━━━━━━━━━━━━━━━━━━━━━━━━━━━━━\u001b[0m \u001b[32m31.3/31.3 MB\u001b[0m \u001b[31m52.8 MB/s\u001b[0m eta \u001b[36m0:00:00\u001b[0m\n",
            "\u001b[?25hInstalling collected packages: faiss-cpu\n",
            "Successfully installed faiss-cpu-1.11.0\n"
          ]
        }
      ]
    },
    {
      "cell_type": "code",
      "execution_count": null,
      "metadata": {
        "id": "ZUMY3d0EM4P_"
      },
      "outputs": [],
      "source": [
        "from langchain_community.document_loaders import TextLoader\n"
      ]
    },
    {
      "cell_type": "code",
      "source": [
        "txt_path = r\"/content/XYZ_doc.txt\"\n",
        "\n",
        "loader = TextLoader(txt_path, encoding='utf-8')\n",
        "docs = loader.load()\n",
        "print(docs)"
      ],
      "metadata": {
        "colab": {
          "base_uri": "https://localhost:8080/"
        },
        "id": "FTcjo-CBNe_p",
        "outputId": "850f8368-05a8-473d-cf79-fb2d7fa50e6b"
      },
      "execution_count": null,
      "outputs": [
        {
          "output_type": "stream",
          "name": "stdout",
          "text": [
            "[Document(metadata={'source': '/content/XYZ_doc.txt'}, page_content='Currently, we offer loans exclusively to our loyal users who are California residents. Loans are issued by XYZ, Inc., which holds a California Finance Lenders License (CFL) and operates as a licensed lender in the state of California (NMLS ID #2156167). XYZ Terms and conditions apply. Approval is subject to credit eligibility and applicable regulations.\\n\\nIn other states, we do not provide consumer loans as defined by the Truth in Lending Act. Instead, our service grants early access to your earned wages through an Earned Wage Access (EWA) product. The amount of XYZ Advance you receive depends on your anticipated wages. There are no interest charges on a XYZ Advance, and we do not perform credit checks to determine eligibility. Additionally, we do not pull credit reports to determine eligibility for XYZ Advance.\\n\\nPlease note that XYZ Advance is not a consumer loan product, and to be eligible for XYZ Advance, you must meet the following criteria:\\n\\n1. State Eligibility\\n        Available in all states except:\\n\\n           Nevada: XYZ Advance is currently unavailable due to state regulations. XYZ intends to obtain a license in the future. Other services (XYZ account, transfers, cashback) are still offered.\\n\\n           South Carolina: XYZ Advance is suspended due to EWA regulations. XYZ intends to obtain a license in the future. Other services remain available.\\n\\n           Connecticut: Advance is available but limited to $200.\\n\\n2. Deposit Requirement\\n       You must receive at least $300 in payroll or benefits deposits into your XYZ account within the last 14 days.\\n\\n3. Repayment History\\n       All previous advances must be fully repaid within 15 calendar days to remain eligible for new ones.\\n\\nImportant Notes\\nEligibility criteria are subject to change and may vary based on location and other factors.\\nFor the most current information on eligibility requirements, refer to the XYZ Terms of Service or contact XYZ customer support.')]\n"
          ]
        }
      ]
    },
    {
      "cell_type": "code",
      "source": [
        "from langchain.text_splitter import RecursiveCharacterTextSplitter\n"
      ],
      "metadata": {
        "id": "U2qlZB_9O2jp"
      },
      "execution_count": null,
      "outputs": []
    },
    {
      "cell_type": "code",
      "source": [
        "text_splitter=RecursiveCharacterTextSplitter(chunk_size=1000,chunk_overlap=1000)\n",
        "data= text_splitter.split_documents(docs)\n",
        "print(len(data))"
      ],
      "metadata": {
        "colab": {
          "base_uri": "https://localhost:8080/"
        },
        "id": "rjQqXaWfR1a-",
        "outputId": "029f5df1-5c81-4868-9b0b-7ee1c78dbc42"
      },
      "execution_count": null,
      "outputs": [
        {
          "output_type": "stream",
          "name": "stdout",
          "text": [
            "4\n"
          ]
        }
      ]
    },
    {
      "cell_type": "code",
      "source": [
        "for chunk in data:\n",
        "  print(chunk.page_content)"
      ],
      "metadata": {
        "colab": {
          "base_uri": "https://localhost:8080/"
        },
        "id": "18dzRfO27Ezd",
        "outputId": "029055cd-4665-411d-ceef-00a0f85ce19f"
      },
      "execution_count": null,
      "outputs": [
        {
          "output_type": "stream",
          "name": "stdout",
          "text": [
            "Currently, we offer loans exclusively to our loyal users who are California residents. Loans are issued by XYZ, Inc., which holds a California Finance Lenders License (CFL) and operates as a licensed lender in the state of California (NMLS ID #2156167). XYZ Terms and conditions apply. Approval is subject to credit eligibility and applicable regulations.\n",
            "\n",
            "In other states, we do not provide consumer loans as defined by the Truth in Lending Act. Instead, our service grants early access to your earned wages through an Earned Wage Access (EWA) product. The amount of XYZ Advance you receive depends on your anticipated wages. There are no interest charges on a XYZ Advance, and we do not perform credit checks to determine eligibility. Additionally, we do not pull credit reports to determine eligibility for XYZ Advance.\n",
            "\n",
            "Please note that XYZ Advance is not a consumer loan product, and to be eligible for XYZ Advance, you must meet the following criteria:\n",
            "In other states, we do not provide consumer loans as defined by the Truth in Lending Act. Instead, our service grants early access to your earned wages through an Earned Wage Access (EWA) product. The amount of XYZ Advance you receive depends on your anticipated wages. There are no interest charges on a XYZ Advance, and we do not perform credit checks to determine eligibility. Additionally, we do not pull credit reports to determine eligibility for XYZ Advance.\n",
            "\n",
            "Please note that XYZ Advance is not a consumer loan product, and to be eligible for XYZ Advance, you must meet the following criteria:\n",
            "\n",
            "1. State Eligibility\n",
            "        Available in all states except:\n",
            "\n",
            "           Nevada: XYZ Advance is currently unavailable due to state regulations. XYZ intends to obtain a license in the future. Other services (XYZ account, transfers, cashback) are still offered.\n",
            "Please note that XYZ Advance is not a consumer loan product, and to be eligible for XYZ Advance, you must meet the following criteria:\n",
            "\n",
            "1. State Eligibility\n",
            "        Available in all states except:\n",
            "\n",
            "           Nevada: XYZ Advance is currently unavailable due to state regulations. XYZ intends to obtain a license in the future. Other services (XYZ account, transfers, cashback) are still offered.\n",
            "\n",
            "           South Carolina: XYZ Advance is suspended due to EWA regulations. XYZ intends to obtain a license in the future. Other services remain available.\n",
            "\n",
            "           Connecticut: Advance is available but limited to $200.\n",
            "\n",
            "2. Deposit Requirement\n",
            "       You must receive at least $300 in payroll or benefits deposits into your XYZ account within the last 14 days.\n",
            "\n",
            "3. Repayment History\n",
            "       All previous advances must be fully repaid within 15 calendar days to remain eligible for new ones.\n",
            "1. State Eligibility\n",
            "        Available in all states except:\n",
            "\n",
            "           Nevada: XYZ Advance is currently unavailable due to state regulations. XYZ intends to obtain a license in the future. Other services (XYZ account, transfers, cashback) are still offered.\n",
            "\n",
            "           South Carolina: XYZ Advance is suspended due to EWA regulations. XYZ intends to obtain a license in the future. Other services remain available.\n",
            "\n",
            "           Connecticut: Advance is available but limited to $200.\n",
            "\n",
            "2. Deposit Requirement\n",
            "       You must receive at least $300 in payroll or benefits deposits into your XYZ account within the last 14 days.\n",
            "\n",
            "3. Repayment History\n",
            "       All previous advances must be fully repaid within 15 calendar days to remain eligible for new ones.\n",
            "\n",
            "Important Notes\n",
            "Eligibility criteria are subject to change and may vary based on location and other factors.\n",
            "For the most current information on eligibility requirements, refer to the XYZ Terms of Service or contact XYZ customer support.\n"
          ]
        }
      ]
    },
    {
      "cell_type": "code",
      "source": [
        "from langchain_google_genai import GoogleGenerativeAIEmbeddings\n",
        "from dotenv import load_dotenv\n",
        "from google.colab import userdata"
      ],
      "metadata": {
        "id": "KPtSVDSD9Bq3"
      },
      "execution_count": null,
      "outputs": []
    },
    {
      "cell_type": "code",
      "source": [
        "embeddings = GoogleGenerativeAIEmbeddings(model=\"models/embedding-001\", google_api_key=userdata.get('GEMINI_API_KEY'))\n",
        "\n",
        "# Test embedding a query\n",
        "vector = embeddings.embed_query(\"Eligibility criteria\")\n",
        "print(len(vector))\n",
        "print(vector[0])"
      ],
      "metadata": {
        "colab": {
          "base_uri": "https://localhost:8080/"
        },
        "id": "m6x3JIuy9Hgi",
        "outputId": "94f63b35-d1d2-4d69-f0d5-1f79c37173fc"
      },
      "execution_count": null,
      "outputs": [
        {
          "output_type": "stream",
          "name": "stdout",
          "text": [
            "768\n",
            "0.029401754960417747\n"
          ]
        }
      ]
    },
    {
      "cell_type": "code",
      "source": [
        "from langchain_community.vectorstores import FAISS\n",
        "vectorstore = FAISS.from_documents(data, embeddings)\n",
        "retriever = vectorstore.as_retriever(search_type=\"similarity\", search_kwargs={\"k\": 5})\n",
        "\n",
        "query = \"What are the loan offerings?\"\n",
        "\n",
        "results = retriever.get_relevant_documents(query)\n",
        "\n",
        "for i, doc in enumerate(results, 1):\n",
        "    print(f\"Result {i}:\\n{doc.page_content}\\n{'-'*50}\")"
      ],
      "metadata": {
        "colab": {
          "base_uri": "https://localhost:8080/"
        },
        "id": "qF6ZpWqUKIeR",
        "outputId": "a0717fce-3e3f-404a-9bd7-aa4524655dae"
      },
      "execution_count": null,
      "outputs": [
        {
          "output_type": "stream",
          "name": "stdout",
          "text": [
            "Result 1:\n",
            "Currently, we offer loans exclusively to our loyal users who are California residents. Loans are issued by XYZ, Inc., which holds a California Finance Lenders License (CFL) and operates as a licensed lender in the state of California (NMLS ID #2156167). XYZ Terms and conditions apply. Approval is subject to credit eligibility and applicable regulations.\n",
            "\n",
            "In other states, we do not provide consumer loans as defined by the Truth in Lending Act. Instead, our service grants early access to your earned wages through an Earned Wage Access (EWA) product. The amount of XYZ Advance you receive depends on your anticipated wages. There are no interest charges on a XYZ Advance, and we do not perform credit checks to determine eligibility. Additionally, we do not pull credit reports to determine eligibility for XYZ Advance.\n",
            "\n",
            "Please note that XYZ Advance is not a consumer loan product, and to be eligible for XYZ Advance, you must meet the following criteria:\n",
            "--------------------------------------------------\n",
            "Result 2:\n",
            "In other states, we do not provide consumer loans as defined by the Truth in Lending Act. Instead, our service grants early access to your earned wages through an Earned Wage Access (EWA) product. The amount of XYZ Advance you receive depends on your anticipated wages. There are no interest charges on a XYZ Advance, and we do not perform credit checks to determine eligibility. Additionally, we do not pull credit reports to determine eligibility for XYZ Advance.\n",
            "\n",
            "Please note that XYZ Advance is not a consumer loan product, and to be eligible for XYZ Advance, you must meet the following criteria:\n",
            "\n",
            "1. State Eligibility\n",
            "        Available in all states except:\n",
            "\n",
            "           Nevada: XYZ Advance is currently unavailable due to state regulations. XYZ intends to obtain a license in the future. Other services (XYZ account, transfers, cashback) are still offered.\n",
            "--------------------------------------------------\n",
            "Result 3:\n",
            "Please note that XYZ Advance is not a consumer loan product, and to be eligible for XYZ Advance, you must meet the following criteria:\n",
            "\n",
            "1. State Eligibility\n",
            "        Available in all states except:\n",
            "\n",
            "           Nevada: XYZ Advance is currently unavailable due to state regulations. XYZ intends to obtain a license in the future. Other services (XYZ account, transfers, cashback) are still offered.\n",
            "\n",
            "           South Carolina: XYZ Advance is suspended due to EWA regulations. XYZ intends to obtain a license in the future. Other services remain available.\n",
            "\n",
            "           Connecticut: Advance is available but limited to $200.\n",
            "\n",
            "2. Deposit Requirement\n",
            "       You must receive at least $300 in payroll or benefits deposits into your XYZ account within the last 14 days.\n",
            "\n",
            "3. Repayment History\n",
            "       All previous advances must be fully repaid within 15 calendar days to remain eligible for new ones.\n",
            "--------------------------------------------------\n",
            "Result 4:\n",
            "1. State Eligibility\n",
            "        Available in all states except:\n",
            "\n",
            "           Nevada: XYZ Advance is currently unavailable due to state regulations. XYZ intends to obtain a license in the future. Other services (XYZ account, transfers, cashback) are still offered.\n",
            "\n",
            "           South Carolina: XYZ Advance is suspended due to EWA regulations. XYZ intends to obtain a license in the future. Other services remain available.\n",
            "\n",
            "           Connecticut: Advance is available but limited to $200.\n",
            "\n",
            "2. Deposit Requirement\n",
            "       You must receive at least $300 in payroll or benefits deposits into your XYZ account within the last 14 days.\n",
            "\n",
            "3. Repayment History\n",
            "       All previous advances must be fully repaid within 15 calendar days to remain eligible for new ones.\n",
            "\n",
            "Important Notes\n",
            "Eligibility criteria are subject to change and may vary based on location and other factors.\n",
            "For the most current information on eligibility requirements, refer to the XYZ Terms of Service or contact XYZ customer support.\n",
            "--------------------------------------------------\n"
          ]
        },
        {
          "output_type": "stream",
          "name": "stderr",
          "text": [
            "/tmp/ipython-input-9-1905705837.py:7: LangChainDeprecationWarning: The method `BaseRetriever.get_relevant_documents` was deprecated in langchain-core 0.1.46 and will be removed in 1.0. Use :meth:`~invoke` instead.\n",
            "  results = retriever.get_relevant_documents(query)\n"
          ]
        }
      ]
    },
    {
      "cell_type": "code",
      "source": [
        "query = \"Am I eligible for a loan?\"\n",
        "\n",
        "results = retriever.get_relevant_documents(query)\n",
        "\n",
        "for i, doc in enumerate(results, 1):\n",
        "    print(f\"{i}.\\t{doc.page_content}\\n\")"
      ],
      "metadata": {
        "colab": {
          "base_uri": "https://localhost:8080/"
        },
        "id": "-sw69AnDNMOV",
        "outputId": "847fd089-98a6-4477-a152-8d51d0dc6704"
      },
      "execution_count": null,
      "outputs": [
        {
          "output_type": "stream",
          "name": "stdout",
          "text": [
            "1.\tCurrently, we offer loans exclusively to our loyal users who are California residents. Loans are issued by XYZ, Inc., which holds a California Finance Lenders License (CFL) and operates as a licensed lender in the state of California (NMLS ID #2156167). XYZ Terms and conditions apply. Approval is subject to credit eligibility and applicable regulations.\n",
            "\n",
            "In other states, we do not provide consumer loans as defined by the Truth in Lending Act. Instead, our service grants early access to your earned wages through an Earned Wage Access (EWA) product. The amount of XYZ Advance you receive depends on your anticipated wages. There are no interest charges on a XYZ Advance, and we do not perform credit checks to determine eligibility. Additionally, we do not pull credit reports to determine eligibility for XYZ Advance.\n",
            "\n",
            "Please note that XYZ Advance is not a consumer loan product, and to be eligible for XYZ Advance, you must meet the following criteria:\n",
            "\n",
            "2.\tPlease note that XYZ Advance is not a consumer loan product, and to be eligible for XYZ Advance, you must meet the following criteria:\n",
            "\n",
            "1. State Eligibility\n",
            "        Available in all states except:\n",
            "\n",
            "           Nevada: XYZ Advance is currently unavailable due to state regulations. XYZ intends to obtain a license in the future. Other services (XYZ account, transfers, cashback) are still offered.\n",
            "\n",
            "           South Carolina: XYZ Advance is suspended due to EWA regulations. XYZ intends to obtain a license in the future. Other services remain available.\n",
            "\n",
            "           Connecticut: Advance is available but limited to $200.\n",
            "\n",
            "2. Deposit Requirement\n",
            "       You must receive at least $300 in payroll or benefits deposits into your XYZ account within the last 14 days.\n",
            "\n",
            "3. Repayment History\n",
            "       All previous advances must be fully repaid within 15 calendar days to remain eligible for new ones.\n",
            "\n",
            "3.\tIn other states, we do not provide consumer loans as defined by the Truth in Lending Act. Instead, our service grants early access to your earned wages through an Earned Wage Access (EWA) product. The amount of XYZ Advance you receive depends on your anticipated wages. There are no interest charges on a XYZ Advance, and we do not perform credit checks to determine eligibility. Additionally, we do not pull credit reports to determine eligibility for XYZ Advance.\n",
            "\n",
            "Please note that XYZ Advance is not a consumer loan product, and to be eligible for XYZ Advance, you must meet the following criteria:\n",
            "\n",
            "1. State Eligibility\n",
            "        Available in all states except:\n",
            "\n",
            "           Nevada: XYZ Advance is currently unavailable due to state regulations. XYZ intends to obtain a license in the future. Other services (XYZ account, transfers, cashback) are still offered.\n",
            "\n",
            "4.\t1. State Eligibility\n",
            "        Available in all states except:\n",
            "\n",
            "           Nevada: XYZ Advance is currently unavailable due to state regulations. XYZ intends to obtain a license in the future. Other services (XYZ account, transfers, cashback) are still offered.\n",
            "\n",
            "           South Carolina: XYZ Advance is suspended due to EWA regulations. XYZ intends to obtain a license in the future. Other services remain available.\n",
            "\n",
            "           Connecticut: Advance is available but limited to $200.\n",
            "\n",
            "2. Deposit Requirement\n",
            "       You must receive at least $300 in payroll or benefits deposits into your XYZ account within the last 14 days.\n",
            "\n",
            "3. Repayment History\n",
            "       All previous advances must be fully repaid within 15 calendar days to remain eligible for new ones.\n",
            "\n",
            "Important Notes\n",
            "Eligibility criteria are subject to change and may vary based on location and other factors.\n",
            "For the most current information on eligibility requirements, refer to the XYZ Terms of Service or contact XYZ customer support.\n",
            "\n"
          ]
        }
      ]
    },
    {
      "cell_type": "code",
      "source": [
        "query = \"What is the eligibility criteria?\"\n",
        "\n",
        "results = retriever.get_relevant_documents(query)\n",
        "\n",
        "for i, doc in enumerate(results, 1):\n",
        "    print(f\"{i}.\\t{doc.page_content}\\n\")"
      ],
      "metadata": {
        "colab": {
          "base_uri": "https://localhost:8080/"
        },
        "id": "-b3NcDUaN8fh",
        "outputId": "7ec9a561-7da0-45bc-df4f-e31a2772a816"
      },
      "execution_count": null,
      "outputs": [
        {
          "output_type": "stream",
          "name": "stdout",
          "text": [
            "1.\tPlease note that XYZ Advance is not a consumer loan product, and to be eligible for XYZ Advance, you must meet the following criteria:\n",
            "\n",
            "1. State Eligibility\n",
            "        Available in all states except:\n",
            "\n",
            "           Nevada: XYZ Advance is currently unavailable due to state regulations. XYZ intends to obtain a license in the future. Other services (XYZ account, transfers, cashback) are still offered.\n",
            "\n",
            "           South Carolina: XYZ Advance is suspended due to EWA regulations. XYZ intends to obtain a license in the future. Other services remain available.\n",
            "\n",
            "           Connecticut: Advance is available but limited to $200.\n",
            "\n",
            "2. Deposit Requirement\n",
            "       You must receive at least $300 in payroll or benefits deposits into your XYZ account within the last 14 days.\n",
            "\n",
            "3. Repayment History\n",
            "       All previous advances must be fully repaid within 15 calendar days to remain eligible for new ones.\n",
            "\n",
            "2.\tCurrently, we offer loans exclusively to our loyal users who are California residents. Loans are issued by XYZ, Inc., which holds a California Finance Lenders License (CFL) and operates as a licensed lender in the state of California (NMLS ID #2156167). XYZ Terms and conditions apply. Approval is subject to credit eligibility and applicable regulations.\n",
            "\n",
            "In other states, we do not provide consumer loans as defined by the Truth in Lending Act. Instead, our service grants early access to your earned wages through an Earned Wage Access (EWA) product. The amount of XYZ Advance you receive depends on your anticipated wages. There are no interest charges on a XYZ Advance, and we do not perform credit checks to determine eligibility. Additionally, we do not pull credit reports to determine eligibility for XYZ Advance.\n",
            "\n",
            "Please note that XYZ Advance is not a consumer loan product, and to be eligible for XYZ Advance, you must meet the following criteria:\n",
            "\n",
            "3.\t1. State Eligibility\n",
            "        Available in all states except:\n",
            "\n",
            "           Nevada: XYZ Advance is currently unavailable due to state regulations. XYZ intends to obtain a license in the future. Other services (XYZ account, transfers, cashback) are still offered.\n",
            "\n",
            "           South Carolina: XYZ Advance is suspended due to EWA regulations. XYZ intends to obtain a license in the future. Other services remain available.\n",
            "\n",
            "           Connecticut: Advance is available but limited to $200.\n",
            "\n",
            "2. Deposit Requirement\n",
            "       You must receive at least $300 in payroll or benefits deposits into your XYZ account within the last 14 days.\n",
            "\n",
            "3. Repayment History\n",
            "       All previous advances must be fully repaid within 15 calendar days to remain eligible for new ones.\n",
            "\n",
            "Important Notes\n",
            "Eligibility criteria are subject to change and may vary based on location and other factors.\n",
            "For the most current information on eligibility requirements, refer to the XYZ Terms of Service or contact XYZ customer support.\n",
            "\n",
            "4.\tIn other states, we do not provide consumer loans as defined by the Truth in Lending Act. Instead, our service grants early access to your earned wages through an Earned Wage Access (EWA) product. The amount of XYZ Advance you receive depends on your anticipated wages. There are no interest charges on a XYZ Advance, and we do not perform credit checks to determine eligibility. Additionally, we do not pull credit reports to determine eligibility for XYZ Advance.\n",
            "\n",
            "Please note that XYZ Advance is not a consumer loan product, and to be eligible for XYZ Advance, you must meet the following criteria:\n",
            "\n",
            "1. State Eligibility\n",
            "        Available in all states except:\n",
            "\n",
            "           Nevada: XYZ Advance is currently unavailable due to state regulations. XYZ intends to obtain a license in the future. Other services (XYZ account, transfers, cashback) are still offered.\n",
            "\n"
          ]
        }
      ]
    },
    {
      "cell_type": "markdown",
      "source": [
        "STORING DIFFERENT USER DETAILS IN JSON FORMAT FOR USER SPECIFIC RESPONSES"
      ],
      "metadata": {
        "id": "z4Sg2_DcC90j"
      }
    },
    {
      "cell_type": "code",
      "source": [
        "import json\n",
        "import os\n",
        "json_path= \"/content/users.json\"\n",
        "\n",
        "user_info = {\n",
        "    \"user1\": {\n",
        "        \"name\": \"Sruti Susarla\",\n",
        "        \"location\": \"India\",\n",
        "        \"email\": \"sruti.susarla@gmail.com\"\n",
        "    },\n",
        "\n",
        "    \"user2\": {\n",
        "        \"name\": \"Marty Bird\",\n",
        "        \"location\": \"Chicago\",\n",
        "        \"email\": \"martybird@gmail.com\"\n",
        "    }\n",
        "\n",
        "}\n",
        "\n",
        "if not os.path.exists(json_path):\n",
        "    with open(json_path, \"w\") as f:\n",
        "        json.dump(user_info, f, indent=4)\n",
        "    print(\"Created users.json\")\n",
        "else:\n",
        "    print(\"users.json already exists\")\n"
      ],
      "metadata": {
        "colab": {
          "base_uri": "https://localhost:8080/"
        },
        "id": "zJHKHtt2NWMU",
        "outputId": "4aceb2d9-8df9-4193-a48c-54b3be40e8be"
      },
      "execution_count": null,
      "outputs": [
        {
          "output_type": "stream",
          "name": "stdout",
          "text": [
            "Created users.json\n"
          ]
        }
      ]
    },
    {
      "cell_type": "code",
      "source": [
        "user_info={\n",
        "    \"user1\": {\n",
        "        \"name\": \"Sruti Susarla\",\n",
        "        \"location\": \"India\",\n",
        "        \"email\": \"sruti.susarla@gmail.com\"\n",
        "    },\n",
        "\n",
        "    \"user2\": {\n",
        "        \"name\": \"Marty Bird\",\n",
        "        \"location\": \"Chicago\",\n",
        "        \"email\": \"martybird@gmail.com\"\n",
        "    },\n",
        "    \"user3\": {\n",
        "        \"name\": \"John Doe\",\n",
        "        \"location\": \"California\",\n",
        "        \"email\": \"john.doe@gmail.com\"\n",
        "    },\n",
        "    \"user4\": {\n",
        "        \"name\": \"Riya Jain\",\n",
        "        \"location\": \"South Carolina\",\n",
        "        \"email\": \"jane.smith@gmail.com\"\n",
        "    }\n",
        "}\n",
        "\n",
        "with open(json_path, \"w\") as f:\n",
        "  json.dump(user_info, f, indent=4)\n",
        "print(\"Updated users.json\")"
      ],
      "metadata": {
        "colab": {
          "base_uri": "https://localhost:8080/"
        },
        "id": "sJaOrwAp_OMj",
        "outputId": "e279be26-0dd2-4100-b2ee-4c3bddc9c538"
      },
      "execution_count": null,
      "outputs": [
        {
          "output_type": "stream",
          "name": "stdout",
          "text": [
            "Updated users.json\n"
          ]
        }
      ]
    },
    {
      "cell_type": "code",
      "source": [
        "with open(json_path, \"r\") as f:\n",
        "        data = json.load(f)\n",
        "for key, value in data.items():\n",
        "        print(f\"{key} → {value}\")"
      ],
      "metadata": {
        "colab": {
          "base_uri": "https://localhost:8080/"
        },
        "id": "HU1czID_CP8t",
        "outputId": "09590407-903a-46c0-8ddf-b5ec67f199c2"
      },
      "execution_count": null,
      "outputs": [
        {
          "output_type": "stream",
          "name": "stdout",
          "text": [
            "user1 → {'name': 'Sruti Susarla', 'location': 'India', 'email': 'sruti.susarla@gmail.com'}\n",
            "user2 → {'name': 'Marty Bird', 'location': 'Chicago', 'email': 'martybird@gmail.com'}\n",
            "user3 → {'name': 'John Doe', 'location': 'California', 'email': 'john.doe@gmail.com'}\n",
            "user4 → {'name': 'Riya Jain', 'location': 'South Carolina', 'email': 'jane.smith@gmail.com'}\n"
          ]
        }
      ]
    },
    {
      "cell_type": "code",
      "source": [
        "saved_questions= \"/content/Questions.json\"\n",
        "K=5\n",
        "def update(question):\n",
        "  if not os.path.exists(saved_questions):\n",
        "    with open(saved_questions,\"w\") as f:\n",
        "      qdict= {}\n",
        "  else:\n",
        "    with open(saved_questions,\"r\") as f:\n",
        "      qdict= json.load(f)\n",
        "  qdict[question]=qdict.get(question,0)+1\n",
        "  topquestions= sorted(qdict,key=qdict.get,reverse=True)[:K]\n",
        "  top_in_dict={q:qdict[q] for q in topquestions}\n",
        "  with open(saved_questions,\"w\") as f:\n",
        "    json.dump(top_in_dict,f,indent=4)\n",
        "\n",
        "def fetchtop():\n",
        "  if not os.path.exists(saved_questions):\n",
        "    return []\n",
        "  with open(saved_questions,\"r\") as f:\n",
        "    qdict=json.load(f)\n",
        "  return list(qdict.keys())"
      ],
      "metadata": {
        "id": "4sYAoBO_ScH5"
      },
      "execution_count": null,
      "outputs": []
    },
    {
      "cell_type": "markdown",
      "source": [
        "GIVING SAMPLE USER QUERIES TO DISPLAY THE TOP K QUERIES"
      ],
      "metadata": {
        "id": "ra01yhFr-s9q"
      }
    },
    {
      "cell_type": "code",
      "source": [
        "query0= \"What are the loan offerings?\"\n",
        "update(query0)\n",
        "query1= \"What are the loan offerings?\"\n",
        "update(query1)\n",
        "query2= \"What are the loan offerings?\"\n",
        "update(query2)\n",
        "query3= \"Am I eligible?\"\n",
        "update(query3)\n",
        "query4= \"Am I eligible?\"\n",
        "update(query4)\n",
        "query5= \"What is the eligibility criteria?\"\n",
        "update(query5)\n",
        "query6= \"What is the eligibility criteria?\"\n",
        "update(query6)\n",
        "query7= \"How much do I have to pay for the advance loan program ?\"\n",
        "update(query7)\n",
        "top_5= fetchtop()\n",
        "for q in top_5:\n",
        "  print(\"-\", q)"
      ],
      "metadata": {
        "colab": {
          "base_uri": "https://localhost:8080/"
        },
        "id": "SQ2P-3SAzoOE",
        "outputId": "846aab26-f5fa-4a6f-c0f6-03ae7c15bd48"
      },
      "execution_count": null,
      "outputs": [
        {
          "output_type": "stream",
          "name": "stdout",
          "text": [
            "- What are the loan offerings?\n",
            "- Am I eligible?\n",
            "- What is the eligibility criteria?\n",
            "- How much do I have to pay for the advance loan program ?\n"
          ]
        }
      ]
    },
    {
      "cell_type": "markdown",
      "source": [
        "GIVING TOP K QUESTIONS + USER SPECIFIC QUERY TO GEMINI AND GETTING BACK THE GENERATED RESPONSE + FAQs FOR CONVERSATION CONTINUATION."
      ],
      "metadata": {
        "id": "oK5FYdzBDx-G"
      }
    },
    {
      "cell_type": "code",
      "source": [
        "!pip install google-generativeai"
      ],
      "metadata": {
        "colab": {
          "base_uri": "https://localhost:8080/",
          "height": 861
        },
        "id": "K1cItPsSEpUJ",
        "outputId": "30c62867-4a29-4ef2-fb2a-b956a4996bd0"
      },
      "execution_count": null,
      "outputs": [
        {
          "output_type": "stream",
          "name": "stdout",
          "text": [
            "Requirement already satisfied: google-generativeai in /usr/local/lib/python3.11/dist-packages (0.8.5)\n",
            "Collecting google-ai-generativelanguage==0.6.15 (from google-generativeai)\n",
            "  Downloading google_ai_generativelanguage-0.6.15-py3-none-any.whl.metadata (5.7 kB)\n",
            "Requirement already satisfied: google-api-core in /usr/local/lib/python3.11/dist-packages (from google-generativeai) (2.25.1)\n",
            "Requirement already satisfied: google-api-python-client in /usr/local/lib/python3.11/dist-packages (from google-generativeai) (2.172.0)\n",
            "Requirement already satisfied: google-auth>=2.15.0 in /usr/local/lib/python3.11/dist-packages (from google-generativeai) (2.38.0)\n",
            "Requirement already satisfied: protobuf in /usr/local/lib/python3.11/dist-packages (from google-generativeai) (5.29.5)\n",
            "Requirement already satisfied: pydantic in /usr/local/lib/python3.11/dist-packages (from google-generativeai) (2.11.7)\n",
            "Requirement already satisfied: tqdm in /usr/local/lib/python3.11/dist-packages (from google-generativeai) (4.67.1)\n",
            "Requirement already satisfied: typing-extensions in /usr/local/lib/python3.11/dist-packages (from google-generativeai) (4.14.0)\n",
            "Requirement already satisfied: proto-plus<2.0.0dev,>=1.22.3 in /usr/local/lib/python3.11/dist-packages (from google-ai-generativelanguage==0.6.15->google-generativeai) (1.26.1)\n",
            "Requirement already satisfied: googleapis-common-protos<2.0.0,>=1.56.2 in /usr/local/lib/python3.11/dist-packages (from google-api-core->google-generativeai) (1.70.0)\n",
            "Requirement already satisfied: requests<3.0.0,>=2.18.0 in /usr/local/lib/python3.11/dist-packages (from google-api-core->google-generativeai) (2.32.3)\n",
            "Requirement already satisfied: cachetools<6.0,>=2.0.0 in /usr/local/lib/python3.11/dist-packages (from google-auth>=2.15.0->google-generativeai) (5.5.2)\n",
            "Requirement already satisfied: pyasn1-modules>=0.2.1 in /usr/local/lib/python3.11/dist-packages (from google-auth>=2.15.0->google-generativeai) (0.4.2)\n",
            "Requirement already satisfied: rsa<5,>=3.1.4 in /usr/local/lib/python3.11/dist-packages (from google-auth>=2.15.0->google-generativeai) (4.9.1)\n",
            "Requirement already satisfied: httplib2<1.0.0,>=0.19.0 in /usr/local/lib/python3.11/dist-packages (from google-api-python-client->google-generativeai) (0.22.0)\n",
            "Requirement already satisfied: google-auth-httplib2<1.0.0,>=0.2.0 in /usr/local/lib/python3.11/dist-packages (from google-api-python-client->google-generativeai) (0.2.0)\n",
            "Requirement already satisfied: uritemplate<5,>=3.0.1 in /usr/local/lib/python3.11/dist-packages (from google-api-python-client->google-generativeai) (4.2.0)\n",
            "Requirement already satisfied: annotated-types>=0.6.0 in /usr/local/lib/python3.11/dist-packages (from pydantic->google-generativeai) (0.7.0)\n",
            "Requirement already satisfied: pydantic-core==2.33.2 in /usr/local/lib/python3.11/dist-packages (from pydantic->google-generativeai) (2.33.2)\n",
            "Requirement already satisfied: typing-inspection>=0.4.0 in /usr/local/lib/python3.11/dist-packages (from pydantic->google-generativeai) (0.4.1)\n",
            "Requirement already satisfied: grpcio<2.0.0,>=1.33.2 in /usr/local/lib/python3.11/dist-packages (from google-api-core[grpc]!=2.0.*,!=2.1.*,!=2.10.*,!=2.2.*,!=2.3.*,!=2.4.*,!=2.5.*,!=2.6.*,!=2.7.*,!=2.8.*,!=2.9.*,<3.0.0dev,>=1.34.1->google-ai-generativelanguage==0.6.15->google-generativeai) (1.73.0)\n",
            "Requirement already satisfied: grpcio-status<2.0.0,>=1.33.2 in /usr/local/lib/python3.11/dist-packages (from google-api-core[grpc]!=2.0.*,!=2.1.*,!=2.10.*,!=2.2.*,!=2.3.*,!=2.4.*,!=2.5.*,!=2.6.*,!=2.7.*,!=2.8.*,!=2.9.*,<3.0.0dev,>=1.34.1->google-ai-generativelanguage==0.6.15->google-generativeai) (1.71.0)\n",
            "Requirement already satisfied: pyparsing!=3.0.0,!=3.0.1,!=3.0.2,!=3.0.3,<4,>=2.4.2 in /usr/local/lib/python3.11/dist-packages (from httplib2<1.0.0,>=0.19.0->google-api-python-client->google-generativeai) (3.2.3)\n",
            "Requirement already satisfied: pyasn1<0.7.0,>=0.6.1 in /usr/local/lib/python3.11/dist-packages (from pyasn1-modules>=0.2.1->google-auth>=2.15.0->google-generativeai) (0.6.1)\n",
            "Requirement already satisfied: charset-normalizer<4,>=2 in /usr/local/lib/python3.11/dist-packages (from requests<3.0.0,>=2.18.0->google-api-core->google-generativeai) (3.4.2)\n",
            "Requirement already satisfied: idna<4,>=2.5 in /usr/local/lib/python3.11/dist-packages (from requests<3.0.0,>=2.18.0->google-api-core->google-generativeai) (3.10)\n",
            "Requirement already satisfied: urllib3<3,>=1.21.1 in /usr/local/lib/python3.11/dist-packages (from requests<3.0.0,>=2.18.0->google-api-core->google-generativeai) (2.4.0)\n",
            "Requirement already satisfied: certifi>=2017.4.17 in /usr/local/lib/python3.11/dist-packages (from requests<3.0.0,>=2.18.0->google-api-core->google-generativeai) (2025.6.15)\n",
            "Downloading google_ai_generativelanguage-0.6.15-py3-none-any.whl (1.3 MB)\n",
            "\u001b[2K   \u001b[90m━━━━━━━━━━━━━━━━━━━━━━━━━━━━━━━━━━━━━━━━\u001b[0m \u001b[32m1.3/1.3 MB\u001b[0m \u001b[31m20.8 MB/s\u001b[0m eta \u001b[36m0:00:00\u001b[0m\n",
            "\u001b[?25hInstalling collected packages: google-ai-generativelanguage\n",
            "  Attempting uninstall: google-ai-generativelanguage\n",
            "    Found existing installation: google-ai-generativelanguage 0.6.18\n",
            "    Uninstalling google-ai-generativelanguage-0.6.18:\n",
            "      Successfully uninstalled google-ai-generativelanguage-0.6.18\n",
            "\u001b[31mERROR: pip's dependency resolver does not currently take into account all the packages that are installed. This behaviour is the source of the following dependency conflicts.\n",
            "langchain-google-genai 2.1.5 requires google-ai-generativelanguage<0.7.0,>=0.6.18, but you have google-ai-generativelanguage 0.6.15 which is incompatible.\u001b[0m\u001b[31m\n",
            "\u001b[0mSuccessfully installed google-ai-generativelanguage-0.6.15\n"
          ]
        },
        {
          "output_type": "display_data",
          "data": {
            "application/vnd.colab-display-data+json": {
              "pip_warning": {
                "packages": [
                  "google"
                ]
              },
              "id": "e91efeb467fb41a3a36a0989bd24da7f"
            }
          },
          "metadata": {}
        }
      ]
    },
    {
      "cell_type": "code",
      "source": [
        "import google.generativeai as genai\n",
        "def gen_response(query,retriever,top_questions,GEMINI_API_KEY,user_id):\n",
        "  user_info=get_user_details(user_id)\n",
        "  name=user_info.get(\"name\",\"Sruti Susarla\")\n",
        "  location=user_info.get(\"location\",\"Unknown\")\n",
        "  email=user_info.get(\"email\",\"not mentioned\")\n",
        "\n",
        "  context_docs=retriever.get_relevant_documents(query)\n",
        "  context=\"\\n\\n\".join([doc.page_content for doc in context_docs])\n",
        "  top_k= \"\\n\".join(f\"->{q}\" for q in top_questions)\n",
        "  prompt= f\"\"\"\n",
        "  You are an expert assisstant helping users understand text document content.\n",
        "  Given,\n",
        "\n",
        "  User Info:\n",
        "  Name: {name}\n",
        "  Location: {location}\n",
        "  Email: {email}\n",
        "\n",
        "  context:{context}\n",
        "  user question:{query}\n",
        "  Top 5 frequently asked:{top_questions}\n",
        "  Systematically answer this using format-\n",
        "  Then at the end of your response, add:\n",
        "  ---\n",
        "  What would you like next-\n",
        "  {top_k} \"\"\"\n",
        "\n",
        "  genai.configure(api_key=GEMINI_API_KEY)\n",
        "  model=genai.GenerativeModel(\"models/gemini-1.5-flash\")\n",
        "  response=model.generate_content(prompt)\n",
        "  return response.text.strip()"
      ],
      "metadata": {
        "id": "zhkYGyi-YG-U"
      },
      "execution_count": null,
      "outputs": []
    },
    {
      "cell_type": "code",
      "source": [
        "query=\"What are the loan offerings?\"\n",
        "top_5_questions=fetchtop()\n",
        "update(query)\n",
        "response=gen_response(query,retriever,top_5_questions,userdata.get('GEMINI_API_KEY'))\n",
        "print(response)"
      ],
      "metadata": {
        "colab": {
          "base_uri": "https://localhost:8080/",
          "height": 236
        },
        "id": "IsMkxD8ElFa6",
        "outputId": "8b3a51e4-d1cd-49ee-e917-23dee7f29372"
      },
      "execution_count": null,
      "outputs": [
        {
          "output_type": "stream",
          "name": "stdout",
          "text": [
            "XYZ offers two types of financial products:\n",
            "\n",
            "1. **Loans:**  These are currently available only to loyal users who are California residents.  Loans are issued by XYZ, Inc., a licensed lender in California (NMLS ID #2156167).  Approval depends on credit eligibility and applicable regulations.  XYZ Terms and Conditions apply.\n",
            "\n",
            "2. **XYZ Advance (EWA):** This is an earned wage access product offered in most states *except* Nevada (currently unavailable due to state regulations), South Carolina (currently suspended due to EWA regulations), and Connecticut (available but capped at $200).  It's not a loan as defined by the Truth in Lending Act; it provides early access to earned wages.  There are no interest charges, and credit checks are not performed.\n",
            "\n",
            "\n",
            "What would you like next-\n",
            "->Am I eligible?\n",
            "->What is the eligibility criteria?\n",
            "->How much do I have to pay for the advance loan program ?\n"
          ]
        }
      ]
    },
    {
      "cell_type": "code",
      "source": [
        "query=\"Am I eligible?\"\n",
        "top_5_questions=fetchtop()\n",
        "update(query)\n",
        "response=gen_response(query,retriever,top_5_questions,userdata.get('GEMINI_API_KEY'),user_id)\n",
        "print(response)"
      ],
      "metadata": {
        "colab": {
          "base_uri": "https://localhost:8080/",
          "height": 327
        },
        "id": "xTDjAa42vGd4",
        "outputId": "3a237da9-50a6-4842-92aa-3318f06cf152"
      },
      "execution_count": null,
      "outputs": [
        {
          "output_type": "error",
          "ename": "TypeError",
          "evalue": "get_user_details() missing 1 required positional argument: 'json_path'",
          "traceback": [
            "\u001b[0;31m---------------------------------------------------------------------------\u001b[0m",
            "\u001b[0;31mTypeError\u001b[0m                                 Traceback (most recent call last)",
            "\u001b[0;32m/tmp/ipython-input-22-1566313191.py\u001b[0m in \u001b[0;36m<cell line: 0>\u001b[0;34m()\u001b[0m\n\u001b[1;32m      2\u001b[0m \u001b[0mtop_5_questions\u001b[0m\u001b[0;34m=\u001b[0m\u001b[0mfetchtop\u001b[0m\u001b[0;34m(\u001b[0m\u001b[0;34m)\u001b[0m\u001b[0;34m\u001b[0m\u001b[0;34m\u001b[0m\u001b[0m\n\u001b[1;32m      3\u001b[0m \u001b[0mupdate\u001b[0m\u001b[0;34m(\u001b[0m\u001b[0mquery\u001b[0m\u001b[0;34m)\u001b[0m\u001b[0;34m\u001b[0m\u001b[0;34m\u001b[0m\u001b[0m\n\u001b[0;32m----> 4\u001b[0;31m \u001b[0mresponse\u001b[0m\u001b[0;34m=\u001b[0m\u001b[0mgen_response\u001b[0m\u001b[0;34m(\u001b[0m\u001b[0mquery\u001b[0m\u001b[0;34m,\u001b[0m\u001b[0mretriever\u001b[0m\u001b[0;34m,\u001b[0m\u001b[0mtop_5_questions\u001b[0m\u001b[0;34m,\u001b[0m\u001b[0muserdata\u001b[0m\u001b[0;34m.\u001b[0m\u001b[0mget\u001b[0m\u001b[0;34m(\u001b[0m\u001b[0;34m'GEMINI_API_KEY'\u001b[0m\u001b[0;34m)\u001b[0m\u001b[0;34m,\u001b[0m\u001b[0muser_id\u001b[0m\u001b[0;34m)\u001b[0m\u001b[0;34m\u001b[0m\u001b[0;34m\u001b[0m\u001b[0m\n\u001b[0m\u001b[1;32m      5\u001b[0m \u001b[0mprint\u001b[0m\u001b[0;34m(\u001b[0m\u001b[0mresponse\u001b[0m\u001b[0;34m)\u001b[0m\u001b[0;34m\u001b[0m\u001b[0;34m\u001b[0m\u001b[0m\n",
            "\u001b[0;32m/tmp/ipython-input-21-2313969425.py\u001b[0m in \u001b[0;36mgen_response\u001b[0;34m(query, retriever, top_questions, GEMINI_API_KEY, user_id)\u001b[0m\n\u001b[1;32m      1\u001b[0m \u001b[0;32mimport\u001b[0m \u001b[0mgoogle\u001b[0m\u001b[0;34m.\u001b[0m\u001b[0mgenerativeai\u001b[0m \u001b[0;32mas\u001b[0m \u001b[0mgenai\u001b[0m\u001b[0;34m\u001b[0m\u001b[0;34m\u001b[0m\u001b[0m\n\u001b[1;32m      2\u001b[0m \u001b[0;32mdef\u001b[0m \u001b[0mgen_response\u001b[0m\u001b[0;34m(\u001b[0m\u001b[0mquery\u001b[0m\u001b[0;34m,\u001b[0m\u001b[0mretriever\u001b[0m\u001b[0;34m,\u001b[0m\u001b[0mtop_questions\u001b[0m\u001b[0;34m,\u001b[0m\u001b[0mGEMINI_API_KEY\u001b[0m\u001b[0;34m,\u001b[0m\u001b[0muser_id\u001b[0m\u001b[0;34m)\u001b[0m\u001b[0;34m:\u001b[0m\u001b[0;34m\u001b[0m\u001b[0;34m\u001b[0m\u001b[0m\n\u001b[0;32m----> 3\u001b[0;31m   \u001b[0muser_info\u001b[0m\u001b[0;34m=\u001b[0m\u001b[0mget_user_details\u001b[0m\u001b[0;34m(\u001b[0m\u001b[0muser_id\u001b[0m\u001b[0;34m)\u001b[0m\u001b[0;34m\u001b[0m\u001b[0;34m\u001b[0m\u001b[0m\n\u001b[0m\u001b[1;32m      4\u001b[0m   \u001b[0mname\u001b[0m\u001b[0;34m=\u001b[0m\u001b[0muser_info\u001b[0m\u001b[0;34m.\u001b[0m\u001b[0mget\u001b[0m\u001b[0;34m(\u001b[0m\u001b[0;34m\"name\"\u001b[0m\u001b[0;34m,\u001b[0m\u001b[0;34m\"Sruti Susarla\"\u001b[0m\u001b[0;34m)\u001b[0m\u001b[0;34m\u001b[0m\u001b[0;34m\u001b[0m\u001b[0m\n\u001b[1;32m      5\u001b[0m   \u001b[0mlocation\u001b[0m\u001b[0;34m=\u001b[0m\u001b[0muser_info\u001b[0m\u001b[0;34m.\u001b[0m\u001b[0mget\u001b[0m\u001b[0;34m(\u001b[0m\u001b[0;34m\"location\"\u001b[0m\u001b[0;34m,\u001b[0m\u001b[0;34m\"Unknown\"\u001b[0m\u001b[0;34m)\u001b[0m\u001b[0;34m\u001b[0m\u001b[0;34m\u001b[0m\u001b[0m\n",
            "\u001b[0;31mTypeError\u001b[0m: get_user_details() missing 1 required positional argument: 'json_path'"
          ]
        }
      ]
    },
    {
      "cell_type": "code",
      "source": [
        "user_id=\"user1\"\n",
        "import json\n",
        "def get_user_details(user_id,json_path):\n",
        "  with open(json_path,\"r\")as f:\n",
        "    users=json.load(f)\n",
        "  return users.get(user_id,{})"
      ],
      "metadata": {
        "id": "gP4ofNq0ylcX"
      },
      "execution_count": null,
      "outputs": []
    },
    {
      "cell_type": "markdown",
      "source": [
        "--------------------------------------------------------------------\n",
        "  **25-06-2025**"
      ],
      "metadata": {
        "id": "aWeafA9M9Pg7"
      }
    },
    {
      "cell_type": "code",
      "source": [
        "import os\n",
        "import json\n",
        "\n",
        "json_path = \"/content/users_data.json\"\n",
        "\n",
        "user_info = {\n",
        "    \"user1\": {\n",
        "        \"name\": \"Sruti Susarla\",\n",
        "                \"state\": \"California\",\n",
        "                \"prev_advance_paid\": True,\n",
        "                \"salary_credited_recently\": True\n",
        "            },\n",
        "            \"user2\": {\n",
        "                \"name\": \"Marty Bird\",\n",
        "                \"location\": \"Texas\",\n",
        "                \"prev_advance_paid\": False,\n",
        "                \"salary_credited_recently\": False\n",
        "            },\n",
        "            \"user3\": {\n",
        "                \"name\": \"Charlie Smith\",\n",
        "                \"location\": \"California\",\n",
        "                \"prev_advance_paid\": True,\n",
        "                \"salary_credited_recently\": False\n",
        "            },\n",
        "            \"user4\": {\n",
        "                \"name\": \"Jane Rose\",\n",
        "                \"location\": \"Texas\",\n",
        "                \"prev_advance_paid\": True,\n",
        "                \"salary_credited_recently\": True\n",
        "            },\n",
        "            \"user5\": {\n",
        "                \"name\": \"Ram Singh\",\n",
        "                \"location\": \"California\",\n",
        "                \"prev_advance_paid\": False,\n",
        "                \"salary_credited_recently\": True\n",
        "            },\n",
        "            \"user6\": {\n",
        "                \"name\": \"Bob Brown\",\n",
        "                \"location\": \"California\",\n",
        "                \"prev_advance_paid\": False,\n",
        "                \"salary_credited_recently\": False\n",
        "            }\n",
        "        }\n",
        "\n",
        "# if not os.path.exists(json_path):\n",
        "#     with open(json_path, \"w\") as f:\n",
        "#         json.dump(user_info, f, indent=4)\n",
        "#     print(\"Created users_data.json\")\n",
        "# else:\n",
        "#     print(\"users_data.json already exists\")"
      ],
      "metadata": {
        "colab": {
          "base_uri": "https://localhost:8080/"
        },
        "id": "3UWhPHgk9Urs",
        "outputId": "c9af8810-5aa8-4528-dc32-cdeda6c5cf48"
      },
      "execution_count": null,
      "outputs": [
        {
          "output_type": "stream",
          "name": "stdout",
          "text": [
            "users_data.json already exists\n"
          ]
        }
      ]
    },
    {
      "cell_type": "code",
      "source": [
        "from langchain_community.vectorstores import FAISS\n",
        "vectorstore = FAISS.from_documents(data, embeddings)\n",
        "retriever = vectorstore.as_retriever(search_type=\"similarity\", search_kwargs={\"k\": 5})"
      ],
      "metadata": {
        "colab": {
          "base_uri": "https://localhost:8080/",
          "height": 182
        },
        "id": "pOKvpeQwMd6p",
        "outputId": "ca3ba809-e1a3-47ca-f877-4b30cb3183ff"
      },
      "execution_count": null,
      "outputs": [
        {
          "output_type": "error",
          "ename": "NameError",
          "evalue": "name 'data' is not defined",
          "traceback": [
            "\u001b[0;31m---------------------------------------------------------------------------\u001b[0m",
            "\u001b[0;31mNameError\u001b[0m                                 Traceback (most recent call last)",
            "\u001b[0;32m/tmp/ipython-input-3-1143381029.py\u001b[0m in \u001b[0;36m<cell line: 0>\u001b[0;34m()\u001b[0m\n\u001b[1;32m      1\u001b[0m \u001b[0;32mfrom\u001b[0m \u001b[0mlangchain_community\u001b[0m\u001b[0;34m.\u001b[0m\u001b[0mvectorstores\u001b[0m \u001b[0;32mimport\u001b[0m \u001b[0mFAISS\u001b[0m\u001b[0;34m\u001b[0m\u001b[0;34m\u001b[0m\u001b[0m\n\u001b[0;32m----> 2\u001b[0;31m \u001b[0mvectorstore\u001b[0m \u001b[0;34m=\u001b[0m \u001b[0mFAISS\u001b[0m\u001b[0;34m.\u001b[0m\u001b[0mfrom_documents\u001b[0m\u001b[0;34m(\u001b[0m\u001b[0mdata\u001b[0m\u001b[0;34m,\u001b[0m \u001b[0membeddings\u001b[0m\u001b[0;34m)\u001b[0m\u001b[0;34m\u001b[0m\u001b[0;34m\u001b[0m\u001b[0m\n\u001b[0m\u001b[1;32m      3\u001b[0m \u001b[0mretriever\u001b[0m \u001b[0;34m=\u001b[0m \u001b[0mvectorstore\u001b[0m\u001b[0;34m.\u001b[0m\u001b[0mas_retriever\u001b[0m\u001b[0;34m(\u001b[0m\u001b[0msearch_type\u001b[0m\u001b[0;34m=\u001b[0m\u001b[0;34m\"similarity\"\u001b[0m\u001b[0;34m,\u001b[0m \u001b[0msearch_kwargs\u001b[0m\u001b[0;34m=\u001b[0m\u001b[0;34m{\u001b[0m\u001b[0;34m\"k\"\u001b[0m\u001b[0;34m:\u001b[0m \u001b[0;36m5\u001b[0m\u001b[0;34m}\u001b[0m\u001b[0;34m)\u001b[0m\u001b[0;34m\u001b[0m\u001b[0;34m\u001b[0m\u001b[0m\n",
            "\u001b[0;31mNameError\u001b[0m: name 'data' is not defined"
          ]
        }
      ]
    },
    {
      "cell_type": "code",
      "source": [
        "import google.generativeai as genai\n",
        "def gen_response(query,retriever,json_path,GEMINI_API_KEY, user_details: dict=None):\n",
        "  with open(json_path,\"r\") as f:\n",
        "    user_data=json.load(f)\n",
        "\n",
        "  context_docs = retriever.get_relevant_documents(query)\n",
        "  top_chunks = \"\\n\\n\".join([doc.page_content for doc in context_docs])\n",
        "\n",
        "  user_context = f\"[USER DETAILS] {user_details}\" if user_details else \"\"\n",
        "  context = f\"\"\"\n",
        "  {user_context}\n",
        "  [TOP K MATCHES]\n",
        "  {top_chunks}\n",
        "\"\"\"\n",
        "\n",
        "  prompt=f\"\"\"\n",
        "You are an expert banking assisstant.\n",
        "Use the given context to answer the user's question.\n",
        "Context: {context}\n",
        "User's question: \"{query}\"\n",
        "If required ask for further information from user.\n",
        "\"\"\"\n",
        "  genai.configure(api_key=GEMINI_API_KEY)\n",
        "  model=genai.GenerativeModel(\"models/gemini-1.5-flash\")\n",
        "  response=model.generate_content(prompt)\n",
        "  return response.text.strip()"
      ],
      "metadata": {
        "id": "niWkET7oNbfR"
      },
      "execution_count": null,
      "outputs": []
    },
    {
      "cell_type": "markdown",
      "source": [
        "TEST CASES:\n",
        "USER 1:\n",
        "California + Paid + Salary received"
      ],
      "metadata": {
        "id": "fgSjJg7rY6l0"
      }
    },
    {
      "cell_type": "code",
      "source": [
        "query=\"Am I eligible for a loan?\"\n",
        "user_id=\"user1\"\n",
        "json_path=\"/content/users_data.json\"\n",
        "gemini_api_key=userdata.get(\"GEMINI_API_KEY\")\n",
        "response = gen_response(query,retriever,user_id,json_path,gemini_api_key)\n",
        "\n",
        "print(response)"
      ],
      "metadata": {
        "colab": {
          "base_uri": "https://localhost:8080/",
          "height": 182
        },
        "id": "snr5OWG0KfeL",
        "outputId": "679fb76b-4313-4923-f8cf-7fd14b3b95e1"
      },
      "execution_count": null,
      "outputs": [
        {
          "output_type": "stream",
          "name": "stdout",
          "text": [
            "Based on the provided information, you are a California resident and have had a previous advance paid.  To determine your loan eligibility, I need more information:\n",
            "\n",
            "1. **Deposit Requirement:**  Have you received at least $300 in payroll or benefits deposits into your XYZ account within the last 14 days?  Please answer yes or no.\n",
            "\n",
            "2. **Repayment History:** Was your previous advance fully repaid within 15 calendar days? Please answer yes or no.\n",
            "\n",
            "\n",
            "Once I have this information, I can give you a more accurate assessment of your eligibility for an XYZ Advance (which is not a traditional loan but early access to wages).  Remember that even with a \"yes\" to both questions, final approval is subject to XYZ's credit eligibility and applicable regulations.\n"
          ]
        }
      ]
    },
    {
      "cell_type": "markdown",
      "source": [
        "USER 2: no location eligibility + Not paid"
      ],
      "metadata": {
        "id": "LZcnNBbZZaOQ"
      }
    },
    {
      "cell_type": "code",
      "source": [
        "user_info = {\n",
        "    \"user1\": {\n",
        "        \"name\": \"Sruti Susarla\",\n",
        "                \"address\": \"California\",\n",
        "                \"previous_advances_paid\": True,\n",
        "                \"payroll_recieved_within_last_14_days\": 200\n",
        "            },\n",
        "            \"user2\": {\n",
        "                \"name\": \"Marty Bird\",\n",
        "                \"location\": \"Texas\",\n",
        "                \"prev_advance_paid\": False,\n",
        "                \"salary_credited_recently\": False\n",
        "            },\n",
        "            \"user3\": {\n",
        "                \"name\": \"Charlie Smith\",\n",
        "                \"location\": \"California\",\n",
        "                \"prev_advance_paid\": True,\n",
        "                \"salary_credited_recently\": False\n",
        "            },\n",
        "            \"user4\": {\n",
        "                \"name\": \"Jane Rose\",\n",
        "                \"location\": \"Texas\",\n",
        "                \"prev_advance_paid\": True,\n",
        "                \"salary_credited_recently\": True\n",
        "            },\n",
        "            \"user5\": {\n",
        "                \"name\": \"Ram Singh\",\n",
        "                \"location\": \"California\",\n",
        "                \"prev_advance_paid\": False,\n",
        "                \"salary_credited_recently\": True\n",
        "            },\n",
        "            \"user6\": {\n",
        "                \"name\": \"Bob Brown\",\n",
        "                \"location\": \"California\",\n",
        "                \"prev_advance_paid\": False,\n",
        "                \"salary_credited_recently\": False\n",
        "            }\n",
        "        }"
      ],
      "metadata": {
        "id": "gjKJVCpzr9C6"
      },
      "execution_count": null,
      "outputs": []
    },
    {
      "cell_type": "code",
      "source": [
        "query=\"Am I eligible for a XYZ advance?\"\n",
        "user_details=user_info[\"user1\"]\n",
        "gemini_api_key=userdata.get(\"GEMINI_API_KEY\")\n",
        "response = gen_response(query,retriever,json_path,gemini_api_key, user_details=user_details)\n",
        "\n",
        "print(response)"
      ],
      "metadata": {
        "colab": {
          "base_uri": "https://localhost:8080/",
          "height": 91
        },
        "id": "OiOZze_XY0jJ",
        "outputId": "bdf428e3-4a2c-4670-a3bd-0e3052daf3dc"
      },
      "execution_count": null,
      "outputs": [
        {
          "output_type": "stream",
          "name": "stdout",
          "text": [
            "Based on the provided information, it's unclear whether you're eligible for an XYZ Advance.  While you're in California, which is eligible, and your previous advances were paid, you only received $200 in payroll within the last 14 days.  The eligibility requirements state you need at least $300 in deposits.\n",
            "\n",
            "To determine your eligibility, I need to know the total amount of deposits (payroll or benefits) you received in your XYZ account within the last 14 days.  Please provide this information.\n"
          ]
        }
      ]
    },
    {
      "cell_type": "markdown",
      "source": [
        "USER 3: Paid + California + No salary credited"
      ],
      "metadata": {
        "id": "kayD8jcYa5JW"
      }
    },
    {
      "cell_type": "code",
      "source": [
        "query=\"Waht is the loan eligibilty criteria?\"\n",
        "gemini_api_key=userdata.get(\"GEMINI_API_KEY\")\n",
        "response = gen_response(query,retriever,json_path,gemini_api_key)\n",
        "\n",
        "print(response)"
      ],
      "metadata": {
        "colab": {
          "base_uri": "https://localhost:8080/",
          "height": 236
        },
        "id": "TLgPQsbDtdbh",
        "outputId": "63df2b80-7f7a-43ec-86a8-ae88f2a15a01"
      },
      "execution_count": null,
      "outputs": [
        {
          "output_type": "stream",
          "name": "stdout",
          "text": [
            "Our loan eligibility criteria are as follows:  Currently, we only offer loans to our loyal users who are California residents.  Approval is subject to a credit check and is contingent upon meeting applicable regulations.  For loan terms and conditions, please refer to the XYZ Terms and Conditions.\n",
            "\n",
            "If you reside outside of California, we offer an Earned Wage Access (EWA) product called XYZ Advance instead of a traditional loan.  Eligibility for XYZ Advance requires:\n",
            "\n",
            "1. **State Eligibility:**  You must reside in a state where XYZ Advance is available.  Currently, it is unavailable in Nevada and suspended in South Carolina due to regulatory issues. In Connecticut, the maximum advance is limited to $200.\n",
            "\n",
            "2. **Deposit Requirement:** You must have received at least $300 in payroll or benefit deposits into your XYZ account within the last 14 days.\n",
            "\n",
            "3. **Repayment History:** All previous XYZ Advances must be fully repaid within 15 calendar days.\n",
            "\n",
            "Please note that eligibility criteria are subject to change.  For the most up-to-date information, please refer to the XYZ Terms of Service or contact XYZ customer support.\n"
          ]
        }
      ]
    },
    {
      "cell_type": "code",
      "source": [
        "query=\"Waht are the loan offerings?\"\n",
        "gemini_api_key=userdata.get(\"GEMINI_API_KEY\")\n",
        "response = gen_response(query,retriever,json_path,gemini_api_key)\n",
        "\n",
        "print(response)"
      ],
      "metadata": {
        "colab": {
          "base_uri": "https://localhost:8080/",
          "height": 164
        },
        "id": "M-xKFS6gu84k",
        "outputId": "94449000-7845-4402-924e-add4121aaaa9"
      },
      "execution_count": null,
      "outputs": [
        {
          "output_type": "stream",
          "name": "stdout",
          "text": [
            "We offer two types of financial products:\n",
            "\n",
            "1. **Loans:**  Currently, loans are available only to California residents who are loyal users.  These loans are issued by XYZ, Inc., a California licensed lender (NMLS ID #2156167). Approval is subject to a credit check and meeting our eligibility requirements.  XYZ Terms and Conditions apply.\n",
            "\n",
            "2. **XYZ Advance (Earned Wage Access - EWA):** This product is available in most states, but *not* in Nevada (due to state regulations) or South Carolina (due to EWA regulations).  In Connecticut, the maximum advance is $200.  It's not a loan; it's early access to your earned wages.  There are no interest charges, and a credit check is not performed. Eligibility requires at least $300 in payroll or benefits deposited into your XYZ account within the past 14 days, and full repayment of all previous advances within 15 calendar days.\n",
            "\n",
            "To determine your eligibility for either product, please refer to the XYZ Terms of Service or contact XYZ customer support.  The eligibility criteria are subject to change.\n"
          ]
        }
      ]
    },
    {
      "cell_type": "code",
      "source": [
        "query=\"Waht are the XYZ terms and conditions for loans?\"\n",
        "gemini_api_key=userdata.get(\"GEMINI_API_KEY\")\n",
        "response = gen_response(query,retriever,json_path,gemini_api_key)\n",
        "\n",
        "print(response)"
      ],
      "metadata": {
        "colab": {
          "base_uri": "https://localhost:8080/",
          "height": 55
        },
        "id": "jTxjgi5vvK3T",
        "outputId": "becbdb1b-fb1c-4b02-a7fa-4af9140060fa"
      },
      "execution_count": null,
      "outputs": [
        {
          "output_type": "stream",
          "name": "stdout",
          "text": [
            "I cannot provide the specific terms and conditions for XYZ loans.  The provided text only states that XYZ, Inc. holds a California Finance Lenders License and operates as a licensed lender in California (NMLS ID #2156167), and that their terms and conditions apply.  To obtain the complete terms and conditions, you must refer to the XYZ Terms of Service or contact XYZ customer support.\n"
          ]
        }
      ]
    },
    {
      "cell_type": "code",
      "source": [
        "query=\"Am I eligible for a loan?\"\n",
        "user_id=\"user3\"\n",
        "json_path=\"/content/users_data.json\"\n",
        "gemini_api_key=userdata.get(\"GEMINI_API_KEY\")\n",
        "response = gen_response(query,retriever,user_id,json_path,gemini_api_key)\n",
        "\n",
        "print(response)"
      ],
      "metadata": {
        "colab": {
          "base_uri": "https://localhost:8080/",
          "height": 182
        },
        "id": "GxTuJVgGY4lb",
        "outputId": "c7812ea3-1f57-4fee-d15b-e5e612ff2f8e"
      },
      "execution_count": null,
      "outputs": [
        {
          "output_type": "stream",
          "name": "stdout",
          "text": [
            "Based on the provided information, I cannot definitively answer whether you are eligible for a loan.  The information states that loans are only offered to California residents, and you are a California resident. However,  the eligibility for a loan is also subject to a credit check, and this information is missing from your profile.  Additionally,  the provided data mentions \"XYZ Advance,\" which is not a loan but an early access to wages.  Since you have a previous advance paid, this raises the question of whether you mean a traditional loan or another advance.\n",
            "\n",
            "To determine your loan eligibility, I need the following information:\n",
            "\n",
            "1. **Your credit score:**  This is crucial for loan eligibility.\n",
            "2. **Clarification on your loan request:** Are you applying for a traditional loan or another XYZ Advance?\n",
            "\n",
            "Once I have this information, I can provide a more accurate assessment of your eligibility.\n"
          ]
        }
      ]
    },
    {
      "cell_type": "markdown",
      "source": [
        "USER 4: No location eligibility + Paid"
      ],
      "metadata": {
        "id": "uK_3JlDvbJqK"
      }
    },
    {
      "cell_type": "code",
      "source": [
        "query=\"Am I eligible for a loan?\"\n",
        "user_id=\"user4\"\n",
        "json_path=\"/content/users_data.json\"\n",
        "gemini_api_key=userdata.get(\"GEMINI_API_KEY\")\n",
        "response = gen_response(query,retriever,user_id,json_path,gemini_api_key)\n",
        "\n",
        "print(response)"
      ],
      "metadata": {
        "colab": {
          "base_uri": "https://localhost:8080/",
          "height": 182
        },
        "id": "3RpLGWHiZ5KR",
        "outputId": "3e5c5710-7a76-456d-e913-8ccfdbe82e02"
      },
      "execution_count": null,
      "outputs": [
        {
          "output_type": "stream",
          "name": "stdout",
          "text": [
            "Based on the provided information, you are not eligible for a loan from XYZ, Inc.  XYZ only offers loans to California residents.  You live in Texas.\n",
            "\n",
            "However, you may be eligible for an XYZ Advance, which is not a loan but early access to your earned wages.  To determine your eligibility for an XYZ Advance, I need some additional information:\n",
            "\n",
            "1. **Deposits:** Have you received at least $300 in payroll or benefits deposits into your XYZ account within the last 14 days?\n",
            "2. **Previous Advance Repayment:** Was your previous advance fully repaid within 15 calendar days?\n",
            "\n",
            "Please provide this information so I can assess your eligibility for an XYZ Advance.\n"
          ]
        }
      ]
    },
    {
      "cell_type": "markdown",
      "source": [
        "USER 5 : California + Not paid"
      ],
      "metadata": {
        "id": "HPBE3tQDbS8o"
      }
    },
    {
      "cell_type": "code",
      "source": [
        "query=\"Am I eligible for a loan?\"\n",
        "user_id=\"user5\"\n",
        "json_path=\"/content/users_data.json\"\n",
        "gemini_api_key=userdata.get(\"GEMINI_API_KEY\")\n",
        "response = gen_response(query,retriever,user_id,json_path,gemini_api_key)\n",
        "\n",
        "print(response)"
      ],
      "metadata": {
        "colab": {
          "base_uri": "https://localhost:8080/",
          "height": 164
        },
        "id": "7YFoju0cZ93e",
        "outputId": "7084a845-1bca-4b3c-b549-0c938a4c14d2"
      },
      "execution_count": null,
      "outputs": [
        {
          "output_type": "stream",
          "name": "stdout",
          "text": [
            "Based on the provided information, you are a California resident and have had salary credited recently.  This makes you potentially eligible for a loan through XYZ, Inc. However, to determine your eligibility definitively, I need more information:\n",
            "\n",
            "1. **XYZ Account Details:** Do you have an XYZ account?  This is necessary to determine loan eligibility.  If so, how much money has been deposited into your XYZ account within the last 14 days?  (You must have received at least $300).\n",
            "\n",
            "2. **Previous Advance Repayment:**  Have you ever taken out an XYZ Advance before? If so, were all previous advances fully repaid within 15 calendar days?\n",
            "\n",
            "Once I have this information, I can assess your eligibility for a loan.  Please note that even with a positive answer to these questions, final approval is subject to a credit check and XYZ's terms and conditions.\n"
          ]
        }
      ]
    },
    {
      "cell_type": "markdown",
      "source": [
        "USER 6: California + Not paid + No salary credited"
      ],
      "metadata": {
        "id": "cgsE7nMibXO_"
      }
    },
    {
      "cell_type": "code",
      "source": [
        "query=\"Am I eligible for a loan?\"\n",
        "user_id=\"user6\"\n",
        "json_path=\"/content/users_data.json\"\n",
        "gemini_api_key=userdata.get(\"GEMINI_API_KEY\")\n",
        "response = gen_response(query,retriever,user_id,json_path,gemini_api_key)\n",
        "\n",
        "print(response)"
      ],
      "metadata": {
        "colab": {
          "base_uri": "https://localhost:8080/",
          "height": 200
        },
        "id": "y8IeWuREaKk7",
        "outputId": "b2f95965-e592-49c3-8374-fec78be94a3f"
      },
      "execution_count": null,
      "outputs": [
        {
          "output_type": "stream",
          "name": "stdout",
          "text": [
            "Based on the information provided, I cannot definitively answer whether you are eligible for a loan.  The information states that loans are only offered to loyal users in California. While you live in California,  it's unclear if you are a \"loyal user\" as that term is not defined.\n",
            "\n",
            "Furthermore, the information focuses heavily on \"XYZ Advance,\" an earned wage access product, not a traditional loan.  To determine your eligibility for an XYZ Advance, I need the following information:\n",
            "\n",
            "1. **Are you a loyal user of XYZ products?** (Please clarify what constitutes a \"loyal user\" in your understanding).\n",
            "2. **Have you received at least $300 in payroll or benefits deposits into your XYZ account within the last 14 days?**\n",
            "3. **Have you fully repaid all previous XYZ Advances within 15 calendar days?**\n",
            "\n",
            "Once I have this information, I can provide a more accurate assessment of your eligibility for an XYZ Advance.  If you are interested in a traditional loan and not an advance, please contact XYZ customer support for further clarification on their loan eligibility criteria for loyal users.\n"
          ]
        }
      ]
    }
  ]
}